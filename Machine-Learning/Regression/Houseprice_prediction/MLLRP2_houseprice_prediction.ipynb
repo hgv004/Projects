{
  "nbformat": 4,
  "nbformat_minor": 0,
  "metadata": {
    "colab": {
      "name": "MLLRP2_houseprice_prediction",
      "provenance": [],
      "collapsed_sections": [
        "stzrsMSx_zFJ",
        "Vnrmq3fe_2w7",
        "9En-3fuj_6U7",
        "2XkQl_ouwnVr",
        "6Lmgpxtl_kvl",
        "LwdeNKxNjrOn",
        "7q35tlrQ_Yp2",
        "6JSqMAtD_EP4",
        "L0flbjOL_JB6"
      ]
    },
    "kernelspec": {
      "name": "python3",
      "display_name": "Python 3"
    },
    "language_info": {
      "name": "python"
    }
  },
  "cells": [
    {
      "cell_type": "markdown",
      "source": [
        "# Importing Libraries"
      ],
      "metadata": {
        "id": "stzrsMSx_zFJ"
      }
    },
    {
      "cell_type": "code",
      "execution_count": null,
      "metadata": {
        "id": "SIj4gtmRZj5Y"
      },
      "outputs": [],
      "source": [
        "import pandas as pd\n",
        "import numpy as np\n",
        "import matplotlib.pyplot as plt\n",
        "import seaborn as sns\n",
        "from sklearn import linear_model\n",
        "from sklearn import metrics"
      ]
    },
    {
      "cell_type": "markdown",
      "source": [
        "# Loading Dataset"
      ],
      "metadata": {
        "id": "Vnrmq3fe_2w7"
      }
    },
    {
      "cell_type": "code",
      "source": [
        "df=pd.read_csv('/content/drive/MyDrive/Projects/Data/MLLRP2_Houseprice_prediction.csv')\n",
        "df.head()"
      ],
      "metadata": {
        "colab": {
          "base_uri": "https://localhost:8080/",
          "height": 404
        },
        "id": "9rPo6cL_Zqf2",
        "outputId": "313bcace-5fe0-480c-f281-e3f0da967af6"
      },
      "execution_count": null,
      "outputs": [
        {
          "output_type": "execute_result",
          "data": {
            "text/plain": [
              "       Suburb             Address  Rooms Type      Price Method SellerG  \\\n",
              "0  Abbotsford       68 Studley St      2    h        NaN     SS  Jellis   \n",
              "1  Abbotsford        85 Turner St      2    h  1480000.0      S  Biggin   \n",
              "2  Abbotsford     25 Bloomburg St      2    h  1035000.0      S  Biggin   \n",
              "3  Abbotsford  18/659 Victoria St      3    u        NaN     VB  Rounds   \n",
              "4  Abbotsford        5 Charles St      3    h  1465000.0     SP  Biggin   \n",
              "\n",
              "         Date  Distance  Postcode  ...  Bathroom  Car  Landsize  BuildingArea  \\\n",
              "0  03/09/2016       2.5    3067.0  ...       1.0  1.0     126.0           NaN   \n",
              "1  03/12/2016       2.5    3067.0  ...       1.0  1.0     202.0           NaN   \n",
              "2  04/02/2016       2.5    3067.0  ...       1.0  0.0     156.0          79.0   \n",
              "3  04/02/2016       2.5    3067.0  ...       2.0  1.0       0.0           NaN   \n",
              "4  04/03/2017       2.5    3067.0  ...       2.0  0.0     134.0         150.0   \n",
              "\n",
              "   YearBuilt         CouncilArea Lattitude  Longtitude             Regionname  \\\n",
              "0        NaN  Yarra City Council  -37.8014    144.9958  Northern Metropolitan   \n",
              "1        NaN  Yarra City Council  -37.7996    144.9984  Northern Metropolitan   \n",
              "2     1900.0  Yarra City Council  -37.8079    144.9934  Northern Metropolitan   \n",
              "3        NaN  Yarra City Council  -37.8114    145.0116  Northern Metropolitan   \n",
              "4     1900.0  Yarra City Council  -37.8093    144.9944  Northern Metropolitan   \n",
              "\n",
              "  Propertycount  \n",
              "0        4019.0  \n",
              "1        4019.0  \n",
              "2        4019.0  \n",
              "3        4019.0  \n",
              "4        4019.0  \n",
              "\n",
              "[5 rows x 21 columns]"
            ],
            "text/html": [
              "\n",
              "  <div id=\"df-e83c4a10-2786-4c37-9678-d06d37fe82cf\">\n",
              "    <div class=\"colab-df-container\">\n",
              "      <div>\n",
              "<style scoped>\n",
              "    .dataframe tbody tr th:only-of-type {\n",
              "        vertical-align: middle;\n",
              "    }\n",
              "\n",
              "    .dataframe tbody tr th {\n",
              "        vertical-align: top;\n",
              "    }\n",
              "\n",
              "    .dataframe thead th {\n",
              "        text-align: right;\n",
              "    }\n",
              "</style>\n",
              "<table border=\"1\" class=\"dataframe\">\n",
              "  <thead>\n",
              "    <tr style=\"text-align: right;\">\n",
              "      <th></th>\n",
              "      <th>Suburb</th>\n",
              "      <th>Address</th>\n",
              "      <th>Rooms</th>\n",
              "      <th>Type</th>\n",
              "      <th>Price</th>\n",
              "      <th>Method</th>\n",
              "      <th>SellerG</th>\n",
              "      <th>Date</th>\n",
              "      <th>Distance</th>\n",
              "      <th>Postcode</th>\n",
              "      <th>...</th>\n",
              "      <th>Bathroom</th>\n",
              "      <th>Car</th>\n",
              "      <th>Landsize</th>\n",
              "      <th>BuildingArea</th>\n",
              "      <th>YearBuilt</th>\n",
              "      <th>CouncilArea</th>\n",
              "      <th>Lattitude</th>\n",
              "      <th>Longtitude</th>\n",
              "      <th>Regionname</th>\n",
              "      <th>Propertycount</th>\n",
              "    </tr>\n",
              "  </thead>\n",
              "  <tbody>\n",
              "    <tr>\n",
              "      <th>0</th>\n",
              "      <td>Abbotsford</td>\n",
              "      <td>68 Studley St</td>\n",
              "      <td>2</td>\n",
              "      <td>h</td>\n",
              "      <td>NaN</td>\n",
              "      <td>SS</td>\n",
              "      <td>Jellis</td>\n",
              "      <td>03/09/2016</td>\n",
              "      <td>2.5</td>\n",
              "      <td>3067.0</td>\n",
              "      <td>...</td>\n",
              "      <td>1.0</td>\n",
              "      <td>1.0</td>\n",
              "      <td>126.0</td>\n",
              "      <td>NaN</td>\n",
              "      <td>NaN</td>\n",
              "      <td>Yarra City Council</td>\n",
              "      <td>-37.8014</td>\n",
              "      <td>144.9958</td>\n",
              "      <td>Northern Metropolitan</td>\n",
              "      <td>4019.0</td>\n",
              "    </tr>\n",
              "    <tr>\n",
              "      <th>1</th>\n",
              "      <td>Abbotsford</td>\n",
              "      <td>85 Turner St</td>\n",
              "      <td>2</td>\n",
              "      <td>h</td>\n",
              "      <td>1480000.0</td>\n",
              "      <td>S</td>\n",
              "      <td>Biggin</td>\n",
              "      <td>03/12/2016</td>\n",
              "      <td>2.5</td>\n",
              "      <td>3067.0</td>\n",
              "      <td>...</td>\n",
              "      <td>1.0</td>\n",
              "      <td>1.0</td>\n",
              "      <td>202.0</td>\n",
              "      <td>NaN</td>\n",
              "      <td>NaN</td>\n",
              "      <td>Yarra City Council</td>\n",
              "      <td>-37.7996</td>\n",
              "      <td>144.9984</td>\n",
              "      <td>Northern Metropolitan</td>\n",
              "      <td>4019.0</td>\n",
              "    </tr>\n",
              "    <tr>\n",
              "      <th>2</th>\n",
              "      <td>Abbotsford</td>\n",
              "      <td>25 Bloomburg St</td>\n",
              "      <td>2</td>\n",
              "      <td>h</td>\n",
              "      <td>1035000.0</td>\n",
              "      <td>S</td>\n",
              "      <td>Biggin</td>\n",
              "      <td>04/02/2016</td>\n",
              "      <td>2.5</td>\n",
              "      <td>3067.0</td>\n",
              "      <td>...</td>\n",
              "      <td>1.0</td>\n",
              "      <td>0.0</td>\n",
              "      <td>156.0</td>\n",
              "      <td>79.0</td>\n",
              "      <td>1900.0</td>\n",
              "      <td>Yarra City Council</td>\n",
              "      <td>-37.8079</td>\n",
              "      <td>144.9934</td>\n",
              "      <td>Northern Metropolitan</td>\n",
              "      <td>4019.0</td>\n",
              "    </tr>\n",
              "    <tr>\n",
              "      <th>3</th>\n",
              "      <td>Abbotsford</td>\n",
              "      <td>18/659 Victoria St</td>\n",
              "      <td>3</td>\n",
              "      <td>u</td>\n",
              "      <td>NaN</td>\n",
              "      <td>VB</td>\n",
              "      <td>Rounds</td>\n",
              "      <td>04/02/2016</td>\n",
              "      <td>2.5</td>\n",
              "      <td>3067.0</td>\n",
              "      <td>...</td>\n",
              "      <td>2.0</td>\n",
              "      <td>1.0</td>\n",
              "      <td>0.0</td>\n",
              "      <td>NaN</td>\n",
              "      <td>NaN</td>\n",
              "      <td>Yarra City Council</td>\n",
              "      <td>-37.8114</td>\n",
              "      <td>145.0116</td>\n",
              "      <td>Northern Metropolitan</td>\n",
              "      <td>4019.0</td>\n",
              "    </tr>\n",
              "    <tr>\n",
              "      <th>4</th>\n",
              "      <td>Abbotsford</td>\n",
              "      <td>5 Charles St</td>\n",
              "      <td>3</td>\n",
              "      <td>h</td>\n",
              "      <td>1465000.0</td>\n",
              "      <td>SP</td>\n",
              "      <td>Biggin</td>\n",
              "      <td>04/03/2017</td>\n",
              "      <td>2.5</td>\n",
              "      <td>3067.0</td>\n",
              "      <td>...</td>\n",
              "      <td>2.0</td>\n",
              "      <td>0.0</td>\n",
              "      <td>134.0</td>\n",
              "      <td>150.0</td>\n",
              "      <td>1900.0</td>\n",
              "      <td>Yarra City Council</td>\n",
              "      <td>-37.8093</td>\n",
              "      <td>144.9944</td>\n",
              "      <td>Northern Metropolitan</td>\n",
              "      <td>4019.0</td>\n",
              "    </tr>\n",
              "  </tbody>\n",
              "</table>\n",
              "<p>5 rows × 21 columns</p>\n",
              "</div>\n",
              "      <button class=\"colab-df-convert\" onclick=\"convertToInteractive('df-e83c4a10-2786-4c37-9678-d06d37fe82cf')\"\n",
              "              title=\"Convert this dataframe to an interactive table.\"\n",
              "              style=\"display:none;\">\n",
              "        \n",
              "  <svg xmlns=\"http://www.w3.org/2000/svg\" height=\"24px\"viewBox=\"0 0 24 24\"\n",
              "       width=\"24px\">\n",
              "    <path d=\"M0 0h24v24H0V0z\" fill=\"none\"/>\n",
              "    <path d=\"M18.56 5.44l.94 2.06.94-2.06 2.06-.94-2.06-.94-.94-2.06-.94 2.06-2.06.94zm-11 1L8.5 8.5l.94-2.06 2.06-.94-2.06-.94L8.5 2.5l-.94 2.06-2.06.94zm10 10l.94 2.06.94-2.06 2.06-.94-2.06-.94-.94-2.06-.94 2.06-2.06.94z\"/><path d=\"M17.41 7.96l-1.37-1.37c-.4-.4-.92-.59-1.43-.59-.52 0-1.04.2-1.43.59L10.3 9.45l-7.72 7.72c-.78.78-.78 2.05 0 2.83L4 21.41c.39.39.9.59 1.41.59.51 0 1.02-.2 1.41-.59l7.78-7.78 2.81-2.81c.8-.78.8-2.07 0-2.86zM5.41 20L4 18.59l7.72-7.72 1.47 1.35L5.41 20z\"/>\n",
              "  </svg>\n",
              "      </button>\n",
              "      \n",
              "  <style>\n",
              "    .colab-df-container {\n",
              "      display:flex;\n",
              "      flex-wrap:wrap;\n",
              "      gap: 12px;\n",
              "    }\n",
              "\n",
              "    .colab-df-convert {\n",
              "      background-color: #E8F0FE;\n",
              "      border: none;\n",
              "      border-radius: 50%;\n",
              "      cursor: pointer;\n",
              "      display: none;\n",
              "      fill: #1967D2;\n",
              "      height: 32px;\n",
              "      padding: 0 0 0 0;\n",
              "      width: 32px;\n",
              "    }\n",
              "\n",
              "    .colab-df-convert:hover {\n",
              "      background-color: #E2EBFA;\n",
              "      box-shadow: 0px 1px 2px rgba(60, 64, 67, 0.3), 0px 1px 3px 1px rgba(60, 64, 67, 0.15);\n",
              "      fill: #174EA6;\n",
              "    }\n",
              "\n",
              "    [theme=dark] .colab-df-convert {\n",
              "      background-color: #3B4455;\n",
              "      fill: #D2E3FC;\n",
              "    }\n",
              "\n",
              "    [theme=dark] .colab-df-convert:hover {\n",
              "      background-color: #434B5C;\n",
              "      box-shadow: 0px 1px 3px 1px rgba(0, 0, 0, 0.15);\n",
              "      filter: drop-shadow(0px 1px 2px rgba(0, 0, 0, 0.3));\n",
              "      fill: #FFFFFF;\n",
              "    }\n",
              "  </style>\n",
              "\n",
              "      <script>\n",
              "        const buttonEl =\n",
              "          document.querySelector('#df-e83c4a10-2786-4c37-9678-d06d37fe82cf button.colab-df-convert');\n",
              "        buttonEl.style.display =\n",
              "          google.colab.kernel.accessAllowed ? 'block' : 'none';\n",
              "\n",
              "        async function convertToInteractive(key) {\n",
              "          const element = document.querySelector('#df-e83c4a10-2786-4c37-9678-d06d37fe82cf');\n",
              "          const dataTable =\n",
              "            await google.colab.kernel.invokeFunction('convertToInteractive',\n",
              "                                                     [key], {});\n",
              "          if (!dataTable) return;\n",
              "\n",
              "          const docLinkHtml = 'Like what you see? Visit the ' +\n",
              "            '<a target=\"_blank\" href=https://colab.research.google.com/notebooks/data_table.ipynb>data table notebook</a>'\n",
              "            + ' to learn more about interactive tables.';\n",
              "          element.innerHTML = '';\n",
              "          dataTable['output_type'] = 'display_data';\n",
              "          await google.colab.output.renderOutput(dataTable, element);\n",
              "          const docLink = document.createElement('div');\n",
              "          docLink.innerHTML = docLinkHtml;\n",
              "          element.appendChild(docLink);\n",
              "        }\n",
              "      </script>\n",
              "    </div>\n",
              "  </div>\n",
              "  "
            ]
          },
          "metadata": {},
          "execution_count": 8
        }
      ]
    },
    {
      "cell_type": "markdown",
      "source": [
        "# Pre-processing Data"
      ],
      "metadata": {
        "id": "9En-3fuj_6U7"
      }
    },
    {
      "cell_type": "code",
      "source": [
        "df.shape"
      ],
      "metadata": {
        "id": "d6NFcjmwYjzJ",
        "outputId": "1197df21-eaf8-404d-9aa5-0956899958da",
        "colab": {
          "base_uri": "https://localhost:8080/"
        }
      },
      "execution_count": null,
      "outputs": [
        {
          "output_type": "execute_result",
          "data": {
            "text/plain": [
              "(34857, 21)"
            ]
          },
          "metadata": {},
          "execution_count": 49
        }
      ]
    },
    {
      "cell_type": "code",
      "source": [
        "df.nunique()"
      ],
      "metadata": {
        "colab": {
          "base_uri": "https://localhost:8080/"
        },
        "id": "ZdNpdG2Nz16x",
        "outputId": "d1a71613-f2e2-42a9-8bf0-9406f802f44b"
      },
      "execution_count": null,
      "outputs": [
        {
          "output_type": "execute_result",
          "data": {
            "text/plain": [
              "Suburb             351\n",
              "Address          34009\n",
              "Rooms               12\n",
              "Type                 3\n",
              "Price             2871\n",
              "Method               9\n",
              "SellerG            388\n",
              "Date                78\n",
              "Distance           215\n",
              "Postcode           211\n",
              "Bedroom2            15\n",
              "Bathroom            11\n",
              "Car                 15\n",
              "Landsize          1684\n",
              "BuildingArea       740\n",
              "YearBuilt          160\n",
              "CouncilArea         33\n",
              "Lattitude        13402\n",
              "Longtitude       14524\n",
              "Regionname           8\n",
              "Propertycount      342\n",
              "dtype: int64"
            ]
          },
          "metadata": {},
          "execution_count": 9
        }
      ]
    },
    {
      "cell_type": "code",
      "source": [
        "df.info()"
      ],
      "metadata": {
        "id": "zlrQn5w1cb0Z",
        "colab": {
          "base_uri": "https://localhost:8080/"
        },
        "outputId": "58be38d0-64e9-42c9-fb89-67938f7a7eac"
      },
      "execution_count": null,
      "outputs": [
        {
          "output_type": "stream",
          "name": "stdout",
          "text": [
            "<class 'pandas.core.frame.DataFrame'>\n",
            "RangeIndex: 34857 entries, 0 to 34856\n",
            "Data columns (total 21 columns):\n",
            " #   Column         Non-Null Count  Dtype  \n",
            "---  ------         --------------  -----  \n",
            " 0   Suburb         34857 non-null  object \n",
            " 1   Address        34857 non-null  object \n",
            " 2   Rooms          34857 non-null  int64  \n",
            " 3   Type           34857 non-null  object \n",
            " 4   Price          27247 non-null  float64\n",
            " 5   Method         34857 non-null  object \n",
            " 6   SellerG        34857 non-null  object \n",
            " 7   Date           34857 non-null  object \n",
            " 8   Distance       34856 non-null  float64\n",
            " 9   Postcode       34856 non-null  float64\n",
            " 10  Bedroom2       26640 non-null  float64\n",
            " 11  Bathroom       26631 non-null  float64\n",
            " 12  Car            26129 non-null  float64\n",
            " 13  Landsize       23047 non-null  float64\n",
            " 14  BuildingArea   13742 non-null  float64\n",
            " 15  YearBuilt      15551 non-null  float64\n",
            " 16  CouncilArea    34854 non-null  object \n",
            " 17  Lattitude      26881 non-null  float64\n",
            " 18  Longtitude     26881 non-null  float64\n",
            " 19  Regionname     34854 non-null  object \n",
            " 20  Propertycount  34854 non-null  float64\n",
            "dtypes: float64(12), int64(1), object(8)\n",
            "memory usage: 5.6+ MB\n"
          ]
        }
      ]
    },
    {
      "cell_type": "code",
      "source": [
        "df.columns"
      ],
      "metadata": {
        "colab": {
          "base_uri": "https://localhost:8080/"
        },
        "id": "XmK9RhjwgF5P",
        "outputId": "2688adff-e9b6-43ed-e2c0-c7d8a9d870ef"
      },
      "execution_count": null,
      "outputs": [
        {
          "output_type": "execute_result",
          "data": {
            "text/plain": [
              "Index(['Suburb', 'Address', 'Rooms', 'Type', 'Price', 'Method', 'SellerG',\n",
              "       'Date', 'Distance', 'Postcode', 'Bedroom2', 'Bathroom', 'Car',\n",
              "       'Landsize', 'BuildingArea', 'YearBuilt', 'CouncilArea', 'Lattitude',\n",
              "       'Longtitude', 'Regionname', 'Propertycount'],\n",
              "      dtype='object')"
            ]
          },
          "metadata": {},
          "execution_count": 11
        }
      ]
    },
    {
      "cell_type": "code",
      "source": [
        "df.describe()"
      ],
      "metadata": {
        "colab": {
          "base_uri": "https://localhost:8080/",
          "height": 364
        },
        "id": "--gLpsXQgX8Y",
        "outputId": "6b1231e8-4d27-4be6-e74e-536c6183192d"
      },
      "execution_count": null,
      "outputs": [
        {
          "output_type": "execute_result",
          "data": {
            "text/plain": [
              "              Rooms         Price      Distance      Postcode      Bedroom2  \\\n",
              "count  34857.000000  2.724700e+04  34856.000000  34856.000000  26640.000000   \n",
              "mean       3.031012  1.050173e+06     11.184929   3116.062859      3.084647   \n",
              "std        0.969933  6.414671e+05      6.788892    109.023903      0.980690   \n",
              "min        1.000000  8.500000e+04      0.000000   3000.000000      0.000000   \n",
              "25%        2.000000  6.350000e+05      6.400000   3051.000000      2.000000   \n",
              "50%        3.000000  8.700000e+05     10.300000   3103.000000      3.000000   \n",
              "75%        4.000000  1.295000e+06     14.000000   3156.000000      4.000000   \n",
              "max       16.000000  1.120000e+07     48.100000   3978.000000     30.000000   \n",
              "\n",
              "           Bathroom           Car       Landsize  BuildingArea     YearBuilt  \\\n",
              "count  26631.000000  26129.000000   23047.000000   13742.00000  15551.000000   \n",
              "mean       1.624798      1.728845     593.598993     160.25640   1965.289885   \n",
              "std        0.724212      1.010771    3398.841946     401.26706     37.328178   \n",
              "min        0.000000      0.000000       0.000000       0.00000   1196.000000   \n",
              "25%        1.000000      1.000000     224.000000     102.00000   1940.000000   \n",
              "50%        2.000000      2.000000     521.000000     136.00000   1970.000000   \n",
              "75%        2.000000      2.000000     670.000000     188.00000   2000.000000   \n",
              "max       12.000000     26.000000  433014.000000   44515.00000   2106.000000   \n",
              "\n",
              "          Lattitude    Longtitude  Propertycount  \n",
              "count  26881.000000  26881.000000   34854.000000  \n",
              "mean     -37.810634    145.001851    7572.888306  \n",
              "std        0.090279      0.120169    4428.090313  \n",
              "min      -38.190430    144.423790      83.000000  \n",
              "25%      -37.862950    144.933500    4385.000000  \n",
              "50%      -37.807600    145.007800    6763.000000  \n",
              "75%      -37.754100    145.071900   10412.000000  \n",
              "max      -37.390200    145.526350   21650.000000  "
            ],
            "text/html": [
              "\n",
              "  <div id=\"df-bbe2537a-a6e5-426e-accf-563c9d3714da\">\n",
              "    <div class=\"colab-df-container\">\n",
              "      <div>\n",
              "<style scoped>\n",
              "    .dataframe tbody tr th:only-of-type {\n",
              "        vertical-align: middle;\n",
              "    }\n",
              "\n",
              "    .dataframe tbody tr th {\n",
              "        vertical-align: top;\n",
              "    }\n",
              "\n",
              "    .dataframe thead th {\n",
              "        text-align: right;\n",
              "    }\n",
              "</style>\n",
              "<table border=\"1\" class=\"dataframe\">\n",
              "  <thead>\n",
              "    <tr style=\"text-align: right;\">\n",
              "      <th></th>\n",
              "      <th>Rooms</th>\n",
              "      <th>Price</th>\n",
              "      <th>Distance</th>\n",
              "      <th>Postcode</th>\n",
              "      <th>Bedroom2</th>\n",
              "      <th>Bathroom</th>\n",
              "      <th>Car</th>\n",
              "      <th>Landsize</th>\n",
              "      <th>BuildingArea</th>\n",
              "      <th>YearBuilt</th>\n",
              "      <th>Lattitude</th>\n",
              "      <th>Longtitude</th>\n",
              "      <th>Propertycount</th>\n",
              "    </tr>\n",
              "  </thead>\n",
              "  <tbody>\n",
              "    <tr>\n",
              "      <th>count</th>\n",
              "      <td>34857.000000</td>\n",
              "      <td>2.724700e+04</td>\n",
              "      <td>34856.000000</td>\n",
              "      <td>34856.000000</td>\n",
              "      <td>26640.000000</td>\n",
              "      <td>26631.000000</td>\n",
              "      <td>26129.000000</td>\n",
              "      <td>23047.000000</td>\n",
              "      <td>13742.00000</td>\n",
              "      <td>15551.000000</td>\n",
              "      <td>26881.000000</td>\n",
              "      <td>26881.000000</td>\n",
              "      <td>34854.000000</td>\n",
              "    </tr>\n",
              "    <tr>\n",
              "      <th>mean</th>\n",
              "      <td>3.031012</td>\n",
              "      <td>1.050173e+06</td>\n",
              "      <td>11.184929</td>\n",
              "      <td>3116.062859</td>\n",
              "      <td>3.084647</td>\n",
              "      <td>1.624798</td>\n",
              "      <td>1.728845</td>\n",
              "      <td>593.598993</td>\n",
              "      <td>160.25640</td>\n",
              "      <td>1965.289885</td>\n",
              "      <td>-37.810634</td>\n",
              "      <td>145.001851</td>\n",
              "      <td>7572.888306</td>\n",
              "    </tr>\n",
              "    <tr>\n",
              "      <th>std</th>\n",
              "      <td>0.969933</td>\n",
              "      <td>6.414671e+05</td>\n",
              "      <td>6.788892</td>\n",
              "      <td>109.023903</td>\n",
              "      <td>0.980690</td>\n",
              "      <td>0.724212</td>\n",
              "      <td>1.010771</td>\n",
              "      <td>3398.841946</td>\n",
              "      <td>401.26706</td>\n",
              "      <td>37.328178</td>\n",
              "      <td>0.090279</td>\n",
              "      <td>0.120169</td>\n",
              "      <td>4428.090313</td>\n",
              "    </tr>\n",
              "    <tr>\n",
              "      <th>min</th>\n",
              "      <td>1.000000</td>\n",
              "      <td>8.500000e+04</td>\n",
              "      <td>0.000000</td>\n",
              "      <td>3000.000000</td>\n",
              "      <td>0.000000</td>\n",
              "      <td>0.000000</td>\n",
              "      <td>0.000000</td>\n",
              "      <td>0.000000</td>\n",
              "      <td>0.00000</td>\n",
              "      <td>1196.000000</td>\n",
              "      <td>-38.190430</td>\n",
              "      <td>144.423790</td>\n",
              "      <td>83.000000</td>\n",
              "    </tr>\n",
              "    <tr>\n",
              "      <th>25%</th>\n",
              "      <td>2.000000</td>\n",
              "      <td>6.350000e+05</td>\n",
              "      <td>6.400000</td>\n",
              "      <td>3051.000000</td>\n",
              "      <td>2.000000</td>\n",
              "      <td>1.000000</td>\n",
              "      <td>1.000000</td>\n",
              "      <td>224.000000</td>\n",
              "      <td>102.00000</td>\n",
              "      <td>1940.000000</td>\n",
              "      <td>-37.862950</td>\n",
              "      <td>144.933500</td>\n",
              "      <td>4385.000000</td>\n",
              "    </tr>\n",
              "    <tr>\n",
              "      <th>50%</th>\n",
              "      <td>3.000000</td>\n",
              "      <td>8.700000e+05</td>\n",
              "      <td>10.300000</td>\n",
              "      <td>3103.000000</td>\n",
              "      <td>3.000000</td>\n",
              "      <td>2.000000</td>\n",
              "      <td>2.000000</td>\n",
              "      <td>521.000000</td>\n",
              "      <td>136.00000</td>\n",
              "      <td>1970.000000</td>\n",
              "      <td>-37.807600</td>\n",
              "      <td>145.007800</td>\n",
              "      <td>6763.000000</td>\n",
              "    </tr>\n",
              "    <tr>\n",
              "      <th>75%</th>\n",
              "      <td>4.000000</td>\n",
              "      <td>1.295000e+06</td>\n",
              "      <td>14.000000</td>\n",
              "      <td>3156.000000</td>\n",
              "      <td>4.000000</td>\n",
              "      <td>2.000000</td>\n",
              "      <td>2.000000</td>\n",
              "      <td>670.000000</td>\n",
              "      <td>188.00000</td>\n",
              "      <td>2000.000000</td>\n",
              "      <td>-37.754100</td>\n",
              "      <td>145.071900</td>\n",
              "      <td>10412.000000</td>\n",
              "    </tr>\n",
              "    <tr>\n",
              "      <th>max</th>\n",
              "      <td>16.000000</td>\n",
              "      <td>1.120000e+07</td>\n",
              "      <td>48.100000</td>\n",
              "      <td>3978.000000</td>\n",
              "      <td>30.000000</td>\n",
              "      <td>12.000000</td>\n",
              "      <td>26.000000</td>\n",
              "      <td>433014.000000</td>\n",
              "      <td>44515.00000</td>\n",
              "      <td>2106.000000</td>\n",
              "      <td>-37.390200</td>\n",
              "      <td>145.526350</td>\n",
              "      <td>21650.000000</td>\n",
              "    </tr>\n",
              "  </tbody>\n",
              "</table>\n",
              "</div>\n",
              "      <button class=\"colab-df-convert\" onclick=\"convertToInteractive('df-bbe2537a-a6e5-426e-accf-563c9d3714da')\"\n",
              "              title=\"Convert this dataframe to an interactive table.\"\n",
              "              style=\"display:none;\">\n",
              "        \n",
              "  <svg xmlns=\"http://www.w3.org/2000/svg\" height=\"24px\"viewBox=\"0 0 24 24\"\n",
              "       width=\"24px\">\n",
              "    <path d=\"M0 0h24v24H0V0z\" fill=\"none\"/>\n",
              "    <path d=\"M18.56 5.44l.94 2.06.94-2.06 2.06-.94-2.06-.94-.94-2.06-.94 2.06-2.06.94zm-11 1L8.5 8.5l.94-2.06 2.06-.94-2.06-.94L8.5 2.5l-.94 2.06-2.06.94zm10 10l.94 2.06.94-2.06 2.06-.94-2.06-.94-.94-2.06-.94 2.06-2.06.94z\"/><path d=\"M17.41 7.96l-1.37-1.37c-.4-.4-.92-.59-1.43-.59-.52 0-1.04.2-1.43.59L10.3 9.45l-7.72 7.72c-.78.78-.78 2.05 0 2.83L4 21.41c.39.39.9.59 1.41.59.51 0 1.02-.2 1.41-.59l7.78-7.78 2.81-2.81c.8-.78.8-2.07 0-2.86zM5.41 20L4 18.59l7.72-7.72 1.47 1.35L5.41 20z\"/>\n",
              "  </svg>\n",
              "      </button>\n",
              "      \n",
              "  <style>\n",
              "    .colab-df-container {\n",
              "      display:flex;\n",
              "      flex-wrap:wrap;\n",
              "      gap: 12px;\n",
              "    }\n",
              "\n",
              "    .colab-df-convert {\n",
              "      background-color: #E8F0FE;\n",
              "      border: none;\n",
              "      border-radius: 50%;\n",
              "      cursor: pointer;\n",
              "      display: none;\n",
              "      fill: #1967D2;\n",
              "      height: 32px;\n",
              "      padding: 0 0 0 0;\n",
              "      width: 32px;\n",
              "    }\n",
              "\n",
              "    .colab-df-convert:hover {\n",
              "      background-color: #E2EBFA;\n",
              "      box-shadow: 0px 1px 2px rgba(60, 64, 67, 0.3), 0px 1px 3px 1px rgba(60, 64, 67, 0.15);\n",
              "      fill: #174EA6;\n",
              "    }\n",
              "\n",
              "    [theme=dark] .colab-df-convert {\n",
              "      background-color: #3B4455;\n",
              "      fill: #D2E3FC;\n",
              "    }\n",
              "\n",
              "    [theme=dark] .colab-df-convert:hover {\n",
              "      background-color: #434B5C;\n",
              "      box-shadow: 0px 1px 3px 1px rgba(0, 0, 0, 0.15);\n",
              "      filter: drop-shadow(0px 1px 2px rgba(0, 0, 0, 0.3));\n",
              "      fill: #FFFFFF;\n",
              "    }\n",
              "  </style>\n",
              "\n",
              "      <script>\n",
              "        const buttonEl =\n",
              "          document.querySelector('#df-bbe2537a-a6e5-426e-accf-563c9d3714da button.colab-df-convert');\n",
              "        buttonEl.style.display =\n",
              "          google.colab.kernel.accessAllowed ? 'block' : 'none';\n",
              "\n",
              "        async function convertToInteractive(key) {\n",
              "          const element = document.querySelector('#df-bbe2537a-a6e5-426e-accf-563c9d3714da');\n",
              "          const dataTable =\n",
              "            await google.colab.kernel.invokeFunction('convertToInteractive',\n",
              "                                                     [key], {});\n",
              "          if (!dataTable) return;\n",
              "\n",
              "          const docLinkHtml = 'Like what you see? Visit the ' +\n",
              "            '<a target=\"_blank\" href=https://colab.research.google.com/notebooks/data_table.ipynb>data table notebook</a>'\n",
              "            + ' to learn more about interactive tables.';\n",
              "          element.innerHTML = '';\n",
              "          dataTable['output_type'] = 'display_data';\n",
              "          await google.colab.output.renderOutput(dataTable, element);\n",
              "          const docLink = document.createElement('div');\n",
              "          docLink.innerHTML = docLinkHtml;\n",
              "          element.appendChild(docLink);\n",
              "        }\n",
              "      </script>\n",
              "    </div>\n",
              "  </div>\n",
              "  "
            ]
          },
          "metadata": {},
          "execution_count": 12
        }
      ]
    },
    {
      "cell_type": "code",
      "source": [
        "df1=df.drop(['Address','Date','Postcode','YearBuilt','Lattitude','Longtitude'],axis=1)"
      ],
      "metadata": {
        "id": "jxkUNCQkgh_Y"
      },
      "execution_count": null,
      "outputs": []
    },
    {
      "cell_type": "code",
      "source": [
        "df1.isnull().sum()"
      ],
      "metadata": {
        "colab": {
          "base_uri": "https://localhost:8080/"
        },
        "id": "1FXLZHXXhFwr",
        "outputId": "5217f9be-a41e-4e14-a481-00080337a8ec"
      },
      "execution_count": null,
      "outputs": [
        {
          "output_type": "execute_result",
          "data": {
            "text/plain": [
              "Suburb               0\n",
              "Rooms                0\n",
              "Type                 0\n",
              "Price             7610\n",
              "Method               0\n",
              "SellerG              0\n",
              "Distance             1\n",
              "Bedroom2          8217\n",
              "Bathroom          8226\n",
              "Car               8728\n",
              "Landsize         11810\n",
              "BuildingArea     21115\n",
              "CouncilArea          3\n",
              "Regionname           3\n",
              "Propertycount        3\n",
              "dtype: int64"
            ]
          },
          "metadata": {},
          "execution_count": 14
        }
      ]
    },
    {
      "cell_type": "code",
      "source": [
        "df1.loc[:,['Bathroom','Bedroom2','Car']]=df1.loc[:,['Bathroom','Bedroom2','Car']].fillna(0)"
      ],
      "metadata": {
        "id": "TZuDaNTRhdCC"
      },
      "execution_count": null,
      "outputs": []
    },
    {
      "cell_type": "code",
      "source": [
        "m1=df1['Landsize'].mean()\n",
        "m2=df1['BuildingArea'].mean()\n",
        "df1['Landsize'].fillna(m1,inplace=True)\n",
        "df1['BuildingArea'].fillna(m2,inplace=True)"
      ],
      "metadata": {
        "id": "h10jzVt1ovPu"
      },
      "execution_count": null,
      "outputs": []
    },
    {
      "cell_type": "code",
      "source": [
        "df1.isnull().sum()"
      ],
      "metadata": {
        "colab": {
          "base_uri": "https://localhost:8080/"
        },
        "id": "Q48DM4Vepu-v",
        "outputId": "069d051f-8e78-40b3-d910-ac4737a2eb6c"
      },
      "execution_count": null,
      "outputs": [
        {
          "output_type": "execute_result",
          "data": {
            "text/plain": [
              "Suburb              0\n",
              "Rooms               0\n",
              "Type                0\n",
              "Price            7610\n",
              "Method              0\n",
              "SellerG             0\n",
              "Distance            1\n",
              "Bedroom2            0\n",
              "Bathroom            0\n",
              "Car                 0\n",
              "Landsize            0\n",
              "BuildingArea        0\n",
              "CouncilArea         3\n",
              "Regionname          3\n",
              "Propertycount       3\n",
              "dtype: int64"
            ]
          },
          "metadata": {},
          "execution_count": 17
        }
      ]
    },
    {
      "cell_type": "code",
      "source": [
        "df2=df1.dropna()\n",
        "df2.shape"
      ],
      "metadata": {
        "colab": {
          "base_uri": "https://localhost:8080/"
        },
        "id": "1qXTfgMzp0Uv",
        "outputId": "82087a80-e4bf-49f2-b613-c5c92766ba88"
      },
      "execution_count": null,
      "outputs": [
        {
          "output_type": "execute_result",
          "data": {
            "text/plain": [
              "(27244, 15)"
            ]
          },
          "metadata": {},
          "execution_count": 18
        }
      ]
    },
    {
      "cell_type": "code",
      "source": [
        "df2.dtypes"
      ],
      "metadata": {
        "colab": {
          "base_uri": "https://localhost:8080/"
        },
        "id": "gy5pS6DlqJ0w",
        "outputId": "36f55811-4687-4ebf-b587-2336aec5560d"
      },
      "execution_count": null,
      "outputs": [
        {
          "output_type": "execute_result",
          "data": {
            "text/plain": [
              "Suburb            object\n",
              "Rooms              int64\n",
              "Type              object\n",
              "Price            float64\n",
              "Method            object\n",
              "SellerG           object\n",
              "Distance         float64\n",
              "Bedroom2         float64\n",
              "Bathroom         float64\n",
              "Car              float64\n",
              "Landsize         float64\n",
              "BuildingArea     float64\n",
              "CouncilArea       object\n",
              "Regionname        object\n",
              "Propertycount    float64\n",
              "dtype: object"
            ]
          },
          "metadata": {},
          "execution_count": 19
        }
      ]
    },
    {
      "cell_type": "code",
      "source": [
        "cor=df2.corr()\n",
        "plt.figure(figsize=(12,8))\n",
        "sns.heatmap(cor,annot=True)"
      ],
      "metadata": {
        "colab": {
          "base_uri": "https://localhost:8080/",
          "height": 564
        },
        "id": "EXsunhkQvs8K",
        "outputId": "fa40cda4-5b2f-4197-da44-47f272f624bd"
      },
      "execution_count": null,
      "outputs": [
        {
          "output_type": "execute_result",
          "data": {
            "text/plain": [
              "<matplotlib.axes._subplots.AxesSubplot at 0x7fe4c8739c50>"
            ]
          },
          "metadata": {},
          "execution_count": 20
        },
        {
          "output_type": "display_data",
          "data": {
            "text/plain": [
              "<Figure size 864x576 with 2 Axes>"
            ],
            "image/png": "[encoded data removed]"
          },
          "metadata": {
            "needs_background": "light"
          }
        }
      ]
    },
    {
      "cell_type": "code",
      "source": [
        "df2.CouncilArea.unique()"
      ],
      "metadata": {
        "colab": {
          "base_uri": "https://localhost:8080/"
        },
        "id": "rBbiIQMP2Rao",
        "outputId": "bf734b1c-c683-474f-ad61-305d58cc03b3"
      },
      "execution_count": null,
      "outputs": [
        {
          "output_type": "execute_result",
          "data": {
            "text/plain": [
              "array(['Yarra City Council', 'Moonee Valley City Council',\n",
              "       'Port Phillip City Council', 'Darebin City Council',\n",
              "       'Hobsons Bay City Council', 'Stonnington City Council',\n",
              "       'Boroondara City Council', 'Monash City Council',\n",
              "       'Glen Eira City Council', 'Whitehorse City Council',\n",
              "       'Maribyrnong City Council', 'Bayside City Council',\n",
              "       'Moreland City Council', 'Manningham City Council',\n",
              "       'Melbourne City Council', 'Banyule City Council',\n",
              "       'Brimbank City Council', 'Kingston City Council',\n",
              "       'Hume City Council', 'Knox City Council', 'Maroondah City Council',\n",
              "       'Casey City Council', 'Melton City Council',\n",
              "       'Greater Dandenong City Council', 'Nillumbik Shire Council',\n",
              "       'Whittlesea City Council', 'Frankston City Council',\n",
              "       'Macedon Ranges Shire Council', 'Yarra Ranges Shire Council',\n",
              "       'Wyndham City Council', 'Cardinia Shire Council',\n",
              "       'Moorabool Shire Council', 'Mitchell Shire Council'], dtype=object)"
            ]
          },
          "metadata": {},
          "execution_count": 21
        }
      ]
    },
    {
      "cell_type": "code",
      "source": [
        "col=df2.columns\n",
        "col"
      ],
      "metadata": {
        "colab": {
          "base_uri": "https://localhost:8080/"
        },
        "id": "e2RBiPzB1YLZ",
        "outputId": "fe563d2f-06f0-4ec5-8ad3-315e2712a396"
      },
      "execution_count": null,
      "outputs": [
        {
          "output_type": "execute_result",
          "data": {
            "text/plain": [
              "Index(['Suburb', 'Rooms', 'Type', 'Price', 'Method', 'SellerG', 'Distance',\n",
              "       'Bedroom2', 'Bathroom', 'Car', 'Landsize', 'BuildingArea',\n",
              "       'CouncilArea', 'Regionname', 'Propertycount'],\n",
              "      dtype='object')"
            ]
          },
          "metadata": {},
          "execution_count": 22
        }
      ]
    },
    {
      "cell_type": "code",
      "source": [
        "df3=df2.drop(['Bedroom2'],axis=1)"
      ],
      "metadata": {
        "id": "9qNjlNWxdthw"
      },
      "execution_count": null,
      "outputs": []
    },
    {
      "cell_type": "code",
      "source": [
        "df3.dtypes"
      ],
      "metadata": {
        "colab": {
          "base_uri": "https://localhost:8080/"
        },
        "id": "w95S1Me13zZI",
        "outputId": "ca0d8f3c-870d-44ab-9a87-5927df170c70"
      },
      "execution_count": null,
      "outputs": [
        {
          "output_type": "execute_result",
          "data": {
            "text/plain": [
              "Suburb            object\n",
              "Rooms              int64\n",
              "Type              object\n",
              "Price            float64\n",
              "Method            object\n",
              "SellerG           object\n",
              "Distance         float64\n",
              "Bathroom         float64\n",
              "Car              float64\n",
              "Landsize         float64\n",
              "BuildingArea     float64\n",
              "CouncilArea       object\n",
              "Regionname        object\n",
              "Propertycount    float64\n",
              "dtype: object"
            ]
          },
          "metadata": {},
          "execution_count": 24
        }
      ]
    },
    {
      "cell_type": "code",
      "source": [
        "oo=pd.DataFrame(df3.groupby(df3['Suburb'])['Car'].count().reset_index())\n",
        "oo"
      ],
      "metadata": {
        "colab": {
          "base_uri": "https://localhost:8080/",
          "height": 424
        },
        "id": "Q7pYF_kUeBjB",
        "outputId": "9d77323a-03ba-4f37-b769-5a88c2bbbe8c"
      },
      "execution_count": null,
      "outputs": [
        {
          "output_type": "execute_result",
          "data": {
            "text/plain": [
              "           Suburb  Car\n",
              "0      Abbotsford  102\n",
              "1      Aberfeldie   70\n",
              "2    Airport West  151\n",
              "3       Albanvale    9\n",
              "4     Albert Park   93\n",
              "..            ...  ...\n",
              "339     Yallambie   45\n",
              "340    Yarra Glen    1\n",
              "341    Yarraville  250\n",
              "342       croydon    1\n",
              "343      viewbank    1\n",
              "\n",
              "[344 rows x 2 columns]"
            ],
            "text/html": [
              "\n",
              "  <div id=\"df-566d7fe9-fcc9-426b-831c-1938a9bba105\">\n",
              "    <div class=\"colab-df-container\">\n",
              "      <div>\n",
              "<style scoped>\n",
              "    .dataframe tbody tr th:only-of-type {\n",
              "        vertical-align: middle;\n",
              "    }\n",
              "\n",
              "    .dataframe tbody tr th {\n",
              "        vertical-align: top;\n",
              "    }\n",
              "\n",
              "    .dataframe thead th {\n",
              "        text-align: right;\n",
              "    }\n",
              "</style>\n",
              "<table border=\"1\" class=\"dataframe\">\n",
              "  <thead>\n",
              "    <tr style=\"text-align: right;\">\n",
              "      <th></th>\n",
              "      <th>Suburb</th>\n",
              "      <th>Car</th>\n",
              "    </tr>\n",
              "  </thead>\n",
              "  <tbody>\n",
              "    <tr>\n",
              "      <th>0</th>\n",
              "      <td>Abbotsford</td>\n",
              "      <td>102</td>\n",
              "    </tr>\n",
              "    <tr>\n",
              "      <th>1</th>\n",
              "      <td>Aberfeldie</td>\n",
              "      <td>70</td>\n",
              "    </tr>\n",
              "    <tr>\n",
              "      <th>2</th>\n",
              "      <td>Airport West</td>\n",
              "      <td>151</td>\n",
              "    </tr>\n",
              "    <tr>\n",
              "      <th>3</th>\n",
              "      <td>Albanvale</td>\n",
              "      <td>9</td>\n",
              "    </tr>\n",
              "    <tr>\n",
              "      <th>4</th>\n",
              "      <td>Albert Park</td>\n",
              "      <td>93</td>\n",
              "    </tr>\n",
              "    <tr>\n",
              "      <th>...</th>\n",
              "      <td>...</td>\n",
              "      <td>...</td>\n",
              "    </tr>\n",
              "    <tr>\n",
              "      <th>339</th>\n",
              "      <td>Yallambie</td>\n",
              "      <td>45</td>\n",
              "    </tr>\n",
              "    <tr>\n",
              "      <th>340</th>\n",
              "      <td>Yarra Glen</td>\n",
              "      <td>1</td>\n",
              "    </tr>\n",
              "    <tr>\n",
              "      <th>341</th>\n",
              "      <td>Yarraville</td>\n",
              "      <td>250</td>\n",
              "    </tr>\n",
              "    <tr>\n",
              "      <th>342</th>\n",
              "      <td>croydon</td>\n",
              "      <td>1</td>\n",
              "    </tr>\n",
              "    <tr>\n",
              "      <th>343</th>\n",
              "      <td>viewbank</td>\n",
              "      <td>1</td>\n",
              "    </tr>\n",
              "  </tbody>\n",
              "</table>\n",
              "<p>344 rows × 2 columns</p>\n",
              "</div>\n",
              "      <button class=\"colab-df-convert\" onclick=\"convertToInteractive('df-566d7fe9-fcc9-426b-831c-1938a9bba105')\"\n",
              "              title=\"Convert this dataframe to an interactive table.\"\n",
              "              style=\"display:none;\">\n",
              "        \n",
              "  <svg xmlns=\"http://www.w3.org/2000/svg\" height=\"24px\"viewBox=\"0 0 24 24\"\n",
              "       width=\"24px\">\n",
              "    <path d=\"M0 0h24v24H0V0z\" fill=\"none\"/>\n",
              "    <path d=\"M18.56 5.44l.94 2.06.94-2.06 2.06-.94-2.06-.94-.94-2.06-.94 2.06-2.06.94zm-11 1L8.5 8.5l.94-2.06 2.06-.94-2.06-.94L8.5 2.5l-.94 2.06-2.06.94zm10 10l.94 2.06.94-2.06 2.06-.94-2.06-.94-.94-2.06-.94 2.06-2.06.94z\"/><path d=\"M17.41 7.96l-1.37-1.37c-.4-.4-.92-.59-1.43-.59-.52 0-1.04.2-1.43.59L10.3 9.45l-7.72 7.72c-.78.78-.78 2.05 0 2.83L4 21.41c.39.39.9.59 1.41.59.51 0 1.02-.2 1.41-.59l7.78-7.78 2.81-2.81c.8-.78.8-2.07 0-2.86zM5.41 20L4 18.59l7.72-7.72 1.47 1.35L5.41 20z\"/>\n",
              "  </svg>\n",
              "      </button>\n",
              "      \n",
              "  <style>\n",
              "    .colab-df-container {\n",
              "      display:flex;\n",
              "      flex-wrap:wrap;\n",
              "      gap: 12px;\n",
              "    }\n",
              "\n",
              "    .colab-df-convert {\n",
              "      background-color: #E8F0FE;\n",
              "      border: none;\n",
              "      border-radius: 50%;\n",
              "      cursor: pointer;\n",
              "      display: none;\n",
              "      fill: #1967D2;\n",
              "      height: 32px;\n",
              "      padding: 0 0 0 0;\n",
              "      width: 32px;\n",
              "    }\n",
              "\n",
              "    .colab-df-convert:hover {\n",
              "      background-color: #E2EBFA;\n",
              "      box-shadow: 0px 1px 2px rgba(60, 64, 67, 0.3), 0px 1px 3px 1px rgba(60, 64, 67, 0.15);\n",
              "      fill: #174EA6;\n",
              "    }\n",
              "\n",
              "    [theme=dark] .colab-df-convert {\n",
              "      background-color: #3B4455;\n",
              "      fill: #D2E3FC;\n",
              "    }\n",
              "\n",
              "    [theme=dark] .colab-df-convert:hover {\n",
              "      background-color: #434B5C;\n",
              "      box-shadow: 0px 1px 3px 1px rgba(0, 0, 0, 0.15);\n",
              "      filter: drop-shadow(0px 1px 2px rgba(0, 0, 0, 0.3));\n",
              "      fill: #FFFFFF;\n",
              "    }\n",
              "  </style>\n",
              "\n",
              "      <script>\n",
              "        const buttonEl =\n",
              "          document.querySelector('#df-566d7fe9-fcc9-426b-831c-1938a9bba105 button.colab-df-convert');\n",
              "        buttonEl.style.display =\n",
              "          google.colab.kernel.accessAllowed ? 'block' : 'none';\n",
              "\n",
              "        async function convertToInteractive(key) {\n",
              "          const element = document.querySelector('#df-566d7fe9-fcc9-426b-831c-1938a9bba105');\n",
              "          const dataTable =\n",
              "            await google.colab.kernel.invokeFunction('convertToInteractive',\n",
              "                                                     [key], {});\n",
              "          if (!dataTable) return;\n",
              "\n",
              "          const docLinkHtml = 'Like what you see? Visit the ' +\n",
              "            '<a target=\"_blank\" href=https://colab.research.google.com/notebooks/data_table.ipynb>data table notebook</a>'\n",
              "            + ' to learn more about interactive tables.';\n",
              "          element.innerHTML = '';\n",
              "          dataTable['output_type'] = 'display_data';\n",
              "          await google.colab.output.renderOutput(dataTable, element);\n",
              "          const docLink = document.createElement('div');\n",
              "          docLink.innerHTML = docLinkHtml;\n",
              "          element.appendChild(docLink);\n",
              "        }\n",
              "      </script>\n",
              "    </div>\n",
              "  </div>\n",
              "  "
            ]
          },
          "metadata": {},
          "execution_count": 25
        }
      ]
    },
    {
      "cell_type": "code",
      "source": [
        "oo1=oo[oo['Car']<50]\n",
        "oo1"
      ],
      "metadata": {
        "id": "2N77-QpFio4S",
        "colab": {
          "base_uri": "https://localhost:8080/",
          "height": 424
        },
        "outputId": "29e6e895-8d3b-4328-e105-b38c1676f0ef"
      },
      "execution_count": null,
      "outputs": [
        {
          "output_type": "execute_result",
          "data": {
            "text/plain": [
              "                Suburb  Car\n",
              "3            Albanvale    9\n",
              "8       Altona Meadows   26\n",
              "10              Ardeer   23\n",
              "15           Aspendale   28\n",
              "16   Aspendale Gardens   16\n",
              "..                 ...  ...\n",
              "337         Wonga Park    2\n",
              "339          Yallambie   45\n",
              "340         Yarra Glen    1\n",
              "342            croydon    1\n",
              "343           viewbank    1\n",
              "\n",
              "[184 rows x 2 columns]"
            ],
            "text/html": [
              "\n",
              "  <div id=\"df-18c59098-cf96-4f33-a4c8-4aeacd31eb7d\">\n",
              "    <div class=\"colab-df-container\">\n",
              "      <div>\n",
              "<style scoped>\n",
              "    .dataframe tbody tr th:only-of-type {\n",
              "        vertical-align: middle;\n",
              "    }\n",
              "\n",
              "    .dataframe tbody tr th {\n",
              "        vertical-align: top;\n",
              "    }\n",
              "\n",
              "    .dataframe thead th {\n",
              "        text-align: right;\n",
              "    }\n",
              "</style>\n",
              "<table border=\"1\" class=\"dataframe\">\n",
              "  <thead>\n",
              "    <tr style=\"text-align: right;\">\n",
              "      <th></th>\n",
              "      <th>Suburb</th>\n",
              "      <th>Car</th>\n",
              "    </tr>\n",
              "  </thead>\n",
              "  <tbody>\n",
              "    <tr>\n",
              "      <th>3</th>\n",
              "      <td>Albanvale</td>\n",
              "      <td>9</td>\n",
              "    </tr>\n",
              "    <tr>\n",
              "      <th>8</th>\n",
              "      <td>Altona Meadows</td>\n",
              "      <td>26</td>\n",
              "    </tr>\n",
              "    <tr>\n",
              "      <th>10</th>\n",
              "      <td>Ardeer</td>\n",
              "      <td>23</td>\n",
              "    </tr>\n",
              "    <tr>\n",
              "      <th>15</th>\n",
              "      <td>Aspendale</td>\n",
              "      <td>28</td>\n",
              "    </tr>\n",
              "    <tr>\n",
              "      <th>16</th>\n",
              "      <td>Aspendale Gardens</td>\n",
              "      <td>16</td>\n",
              "    </tr>\n",
              "    <tr>\n",
              "      <th>...</th>\n",
              "      <td>...</td>\n",
              "      <td>...</td>\n",
              "    </tr>\n",
              "    <tr>\n",
              "      <th>337</th>\n",
              "      <td>Wonga Park</td>\n",
              "      <td>2</td>\n",
              "    </tr>\n",
              "    <tr>\n",
              "      <th>339</th>\n",
              "      <td>Yallambie</td>\n",
              "      <td>45</td>\n",
              "    </tr>\n",
              "    <tr>\n",
              "      <th>340</th>\n",
              "      <td>Yarra Glen</td>\n",
              "      <td>1</td>\n",
              "    </tr>\n",
              "    <tr>\n",
              "      <th>342</th>\n",
              "      <td>croydon</td>\n",
              "      <td>1</td>\n",
              "    </tr>\n",
              "    <tr>\n",
              "      <th>343</th>\n",
              "      <td>viewbank</td>\n",
              "      <td>1</td>\n",
              "    </tr>\n",
              "  </tbody>\n",
              "</table>\n",
              "<p>184 rows × 2 columns</p>\n",
              "</div>\n",
              "      <button class=\"colab-df-convert\" onclick=\"convertToInteractive('df-18c59098-cf96-4f33-a4c8-4aeacd31eb7d')\"\n",
              "              title=\"Convert this dataframe to an interactive table.\"\n",
              "              style=\"display:none;\">\n",
              "        \n",
              "  <svg xmlns=\"http://www.w3.org/2000/svg\" height=\"24px\"viewBox=\"0 0 24 24\"\n",
              "       width=\"24px\">\n",
              "    <path d=\"M0 0h24v24H0V0z\" fill=\"none\"/>\n",
              "    <path d=\"M18.56 5.44l.94 2.06.94-2.06 2.06-.94-2.06-.94-.94-2.06-.94 2.06-2.06.94zm-11 1L8.5 8.5l.94-2.06 2.06-.94-2.06-.94L8.5 2.5l-.94 2.06-2.06.94zm10 10l.94 2.06.94-2.06 2.06-.94-2.06-.94-.94-2.06-.94 2.06-2.06.94z\"/><path d=\"M17.41 7.96l-1.37-1.37c-.4-.4-.92-.59-1.43-.59-.52 0-1.04.2-1.43.59L10.3 9.45l-7.72 7.72c-.78.78-.78 2.05 0 2.83L4 21.41c.39.39.9.59 1.41.59.51 0 1.02-.2 1.41-.59l7.78-7.78 2.81-2.81c.8-.78.8-2.07 0-2.86zM5.41 20L4 18.59l7.72-7.72 1.47 1.35L5.41 20z\"/>\n",
              "  </svg>\n",
              "      </button>\n",
              "      \n",
              "  <style>\n",
              "    .colab-df-container {\n",
              "      display:flex;\n",
              "      flex-wrap:wrap;\n",
              "      gap: 12px;\n",
              "    }\n",
              "\n",
              "    .colab-df-convert {\n",
              "      background-color: #E8F0FE;\n",
              "      border: none;\n",
              "      border-radius: 50%;\n",
              "      cursor: pointer;\n",
              "      display: none;\n",
              "      fill: #1967D2;\n",
              "      height: 32px;\n",
              "      padding: 0 0 0 0;\n",
              "      width: 32px;\n",
              "    }\n",
              "\n",
              "    .colab-df-convert:hover {\n",
              "      background-color: #E2EBFA;\n",
              "      box-shadow: 0px 1px 2px rgba(60, 64, 67, 0.3), 0px 1px 3px 1px rgba(60, 64, 67, 0.15);\n",
              "      fill: #174EA6;\n",
              "    }\n",
              "\n",
              "    [theme=dark] .colab-df-convert {\n",
              "      background-color: #3B4455;\n",
              "      fill: #D2E3FC;\n",
              "    }\n",
              "\n",
              "    [theme=dark] .colab-df-convert:hover {\n",
              "      background-color: #434B5C;\n",
              "      box-shadow: 0px 1px 3px 1px rgba(0, 0, 0, 0.15);\n",
              "      filter: drop-shadow(0px 1px 2px rgba(0, 0, 0, 0.3));\n",
              "      fill: #FFFFFF;\n",
              "    }\n",
              "  </style>\n",
              "\n",
              "      <script>\n",
              "        const buttonEl =\n",
              "          document.querySelector('#df-18c59098-cf96-4f33-a4c8-4aeacd31eb7d button.colab-df-convert');\n",
              "        buttonEl.style.display =\n",
              "          google.colab.kernel.accessAllowed ? 'block' : 'none';\n",
              "\n",
              "        async function convertToInteractive(key) {\n",
              "          const element = document.querySelector('#df-18c59098-cf96-4f33-a4c8-4aeacd31eb7d');\n",
              "          const dataTable =\n",
              "            await google.colab.kernel.invokeFunction('convertToInteractive',\n",
              "                                                     [key], {});\n",
              "          if (!dataTable) return;\n",
              "\n",
              "          const docLinkHtml = 'Like what you see? Visit the ' +\n",
              "            '<a target=\"_blank\" href=https://colab.research.google.com/notebooks/data_table.ipynb>data table notebook</a>'\n",
              "            + ' to learn more about interactive tables.';\n",
              "          element.innerHTML = '';\n",
              "          dataTable['output_type'] = 'display_data';\n",
              "          await google.colab.output.renderOutput(dataTable, element);\n",
              "          const docLink = document.createElement('div');\n",
              "          docLink.innerHTML = docLinkHtml;\n",
              "          element.appendChild(docLink);\n",
              "        }\n",
              "      </script>\n",
              "    </div>\n",
              "  </div>\n",
              "  "
            ]
          },
          "metadata": {},
          "execution_count": 26
        }
      ]
    },
    {
      "cell_type": "code",
      "source": [
        "for x in df3['Suburb']:\n",
        "  if x in list(oo1.Suburb):\n",
        "    df3['Suburb'].replace(x,'other',inplace=True)\n",
        "  else:\n",
        "    x\n",
        "len(df3.Suburb.unique())"
      ],
      "metadata": {
        "id": "WZ4LL65eccaq",
        "colab": {
          "base_uri": "https://localhost:8080/"
        },
        "outputId": "890fa07f-101b-4cde-f2c1-57d59c41f464"
      },
      "execution_count": null,
      "outputs": [
        {
          "output_type": "execute_result",
          "data": {
            "text/plain": [
              "161"
            ]
          },
          "metadata": {},
          "execution_count": 27
        }
      ]
    },
    {
      "cell_type": "code",
      "source": [
        "def un():\n",
        "  for cl in df3.columns:\n",
        "    if (df3[cl].dtype!=int) & (df3[cl].dtype!=float):\n",
        "      p=df3[cl].unique()\n",
        "      print(len(p),p)"
      ],
      "metadata": {
        "id": "5O6-G3T7s5fk"
      },
      "execution_count": null,
      "outputs": []
    },
    {
      "cell_type": "code",
      "source": [
        "un()"
      ],
      "metadata": {
        "colab": {
          "base_uri": "https://localhost:8080/"
        },
        "id": "tyrqhOJ6uGSd",
        "outputId": "d59f3fc7-3e22-4472-c063-ab4036576438"
      },
      "execution_count": null,
      "outputs": [
        {
          "output_type": "stream",
          "name": "stdout",
          "text": [
            "161 ['Abbotsford' 'Airport West' 'Albert Park' 'Alphington' 'Altona'\n",
            " 'Altona North' 'Armadale' 'Ascot Vale' 'Ashburton' 'Ashwood'\n",
            " 'Avondale Heights' 'Balaclava' 'Balwyn' 'Balwyn North' 'Bentleigh'\n",
            " 'Bentleigh East' 'Box Hill' 'Braybrook' 'Brighton' 'Brighton East'\n",
            " 'Brunswick' 'Brunswick West' 'Bulleen' 'Burwood' 'Camberwell'\n",
            " 'Canterbury' 'Carlton North' 'Carnegie' 'other' 'Caulfield North'\n",
            " 'Caulfield South' 'Chadstone' 'Clifton Hill' 'Coburg' 'Coburg North'\n",
            " 'Collingwood' 'Doncaster' 'Elsternwick' 'Elwood' 'Essendon' 'Fairfield'\n",
            " 'Fitzroy' 'Fitzroy North' 'Flemington' 'Footscray' 'Glen Iris' 'Glenroy'\n",
            " 'Hadfield' 'Hampton' 'Hampton East' 'Hawthorn' 'Heidelberg Heights'\n",
            " 'Heidelberg West' 'Hughesdale' 'Ivanhoe' 'Keilor East' 'Kensington' 'Kew'\n",
            " 'Kew East' 'Maidstone' 'Malvern' 'Malvern East' 'Maribyrnong' 'Melbourne'\n",
            " 'Middle Park' 'Mont Albert' 'Moonee Ponds' 'Moorabbin' 'Newport'\n",
            " 'Niddrie' 'North Melbourne' 'Northcote' 'Oak Park' 'Oakleigh South'\n",
            " 'Pascoe Vale' 'Port Melbourne' 'Prahran' 'Preston' 'Reservoir' 'Richmond'\n",
            " 'Rosanna' 'Seddon' 'South Melbourne' 'South Yarra' 'Southbank' 'St Kilda'\n",
            " 'Strathmore' 'Sunshine' 'Sunshine North' 'Sunshine West' 'Surrey Hills'\n",
            " 'Templestowe Lower' 'Thornbury' 'Toorak' 'Viewbank' 'Watsonia'\n",
            " 'West Melbourne' 'Williamstown' 'Windsor' 'Yarraville' 'Aberfeldie'\n",
            " 'Brunswick East' 'Carlton' 'Fawkner' 'Hawthorn East' 'Heidelberg'\n",
            " 'Kingsville' 'Murrumbeena' 'Ormond' 'West Footscray' 'Albion' 'Oakleigh'\n",
            " 'Beaumaris' 'Blackburn' 'Broadmeadows' 'Bundoora' 'Cheltenham'\n",
            " 'Craigieburn' 'Croydon' 'Doncaster East' 'Eltham' 'Epping'\n",
            " 'Ferntree Gully' 'Forest Hill' 'Frankston' 'Gladstone Park'\n",
            " 'Glen Waverley' 'Greensborough' 'Greenvale' 'Highett' 'Hillside'\n",
            " 'Hoppers Crossing' 'Lalor' 'MacLeod' 'Melton South' 'Mentone' 'Mernda'\n",
            " 'Mill Park' 'Mitcham' 'Montmorency' 'Mordialloc' 'Mount Waverley'\n",
            " 'Noble Park' 'Nunawading' 'Parkdale' 'Point Cook' 'Ringwood'\n",
            " 'Roxburgh Park' 'Sandringham' 'South Morang' 'St Albans' 'Sunbury'\n",
            " 'Taylors Lakes' 'Thomastown' 'Werribee' 'Wollert' 'Wyndham Vale'\n",
            " 'Mulgrave' 'Templestowe' 'Wheelers Hill' 'Meadow Heights']\n",
            "3 ['h' 't' 'u']\n",
            "5 ['S' 'SP' 'PI' 'VB' 'SA']\n",
            "349 ['Biggin' 'Nelson' 'Jellis' 'Dingle' 'Purplebricks' 'Greg' 'LITTLE'\n",
            " 'Collins' 'Kay' 'Beller' 'Marshall' 'hockingstuart' 'Brad' 'Maddison'\n",
            " 'Barry' 'Airport' 'Considine' 'Rendina' 'Ray' 'Propertyau' 'McDonald'\n",
            " 'Frank' 'Prof.' 'Harcourts' 'Thomson' 'Buxton' 'RT' \"Sotheby's\" 'Cayzer'\n",
            " 'Chisholm' 'Brace' 'Miles' 'Holland' 'McGrath' 'Love' 'Thomas' 'Barlow'\n",
            " 'Sweeney' 'Village' 'Jas' 'Williams' 'Gunn&Co' 'Burnham' 'Compton' 'FN'\n",
            " 'Hunter' 'Raine&Horne' 'Noel' 'Hodges' 'Gary' 'Fletchers' 'Woodards'\n",
            " 'Raine' 'Alexkarbon' 'Walshe' 'Weda' 'Stockdale' 'Tim' 'AIME' 'Moonee'\n",
            " 'HAR' 'Edward' 'Philip' 'RW' 'North' 'MICM' 'Ascend' 'Christopher'\n",
            " 'Morrison' 'Mandy' 'R&H' 'Fletchers/One' 'Lindellas' 'Appleby' 'Assisi'\n",
            " 'One' 'Owen' 'Parkes' 'C21' \"O'Brien\" 'Bayside' 'Paul'\n",
            " 'hockingstuart/Buxton' 'First' 'Matthew' 'Melbourne' 'Anderson' 'Nick'\n",
            " 'Allens' 'Bells' 'Trimson' 'Douglas' 'Batty' 'GL' 'YPA' \"Tiernan's\" 'J'\n",
            " 'Rodney' 'Joseph' 'Harrington' 'Galldon' 'Chambers' 'Peter' 'Grantham'\n",
            " 'hockingstuart/Advantage' 'Garvey' \"O'Donoghues\" 'Hamilton' 'Bekdon'\n",
            " 'Ross' 'Weast' 'Century' 'Kelly' 'Property' \"Private/Tiernan's\"\n",
            " 'Australian' 'Bustin' \"Abercromby's\" 'Castran' 'iTRAK' 'Del' 'Nicholson'\n",
            " 'JMRE' 'ASL' 'Re' 'RE' 'Ham' 'Darren' 'Vic' 'Scott' 'Pride' 'Morleys'\n",
            " 'Wilson' 'Buxton/Advantage' 'Whiting' 'Pagan' 'Joe' 'Red' 'Caine'\n",
            " 'Naison' 'Sweeney/Advantage' 'Nguyen' 'Domain' 'Eview' 'Jason'\n",
            " 'Professionals' \"D'Aprano\" 'Charlton' 'CASTRAN' 'Wood' 'Haughton'\n",
            " 'William' 'Coventry' 'Buckingham' 'Nardella' 'Reach' 'Walsh' 'Karen' 'LJ'\n",
            " 'Direct' 'Fletchers/Fletchers' 'Besser' 'Johnston' 'Redina' 'Clairmont'\n",
            " 'Changing' 'Lucas' 'Elite' 'Buxton/Find' 'W.B.' 'Leased' 'Win' 'New'\n",
            " 'Geoff' 'hockingstuart/Barry' 'Blue' 'Steveway' 'Dixon' 'Parkinson'\n",
            " 'VICPROP' 'Meadows' 'Allan' 'S&L' 'Crane' 'Calder' 'Homes' 'Zahn' 'Mason'\n",
            " 'David' 'Luxe' 'Prowse' 'Ken' 'iOne' 'hockingstuart/Village' 'Iconek'\n",
            " 'Luxton' 'Hooper' 'Oak' 'White' 'Weston' 'Reed' 'Oriental' 'Craig' 'Max'\n",
            " 'Rosin' 'Steller' 'Real' 'Hall' 'Icon' 'buyMyplace' 'Collings' 'WHITEFOX'\n",
            " 'Metro' '@Realty' 'Hoskins' 'Gardiner' 'McLennan' 'Triwest'\n",
            " 'PRDNationwide' 'Only' 'Leyton' 'Obrien' 'Maitland' 'Reliance' 'Rounds'\n",
            " 'Millership' 'iSell' 'L' 'Ash' 'Jim' 'Ace' 'Flannagan' 'JRW' 'Carter'\n",
            " 'M.J' 'iProperty' 'Hayeswinckle' 'Schroeder' 'iHomes' 'VICProp' 'REMAX'\n",
            " 'Space' 'Victory' 'Aumeca' 'Smart' 'Mindacom' 'Ryder' 'Asset' 'LLC'\n",
            " 'Sell' 'Mitchell' 'U' 'Nicholas' 'Keatings' 'Aquire' 'Conquest'\n",
            " 'Rombotis' 'Prime' 'Donovan' 'Community' 'Free' 'Veitch' 'Peake' 'Ristic'\n",
            " 'Upper' 'Daniel' 'Xynergy' 'VicHomes' 'Westside' 'Leeburn' 'TRUE'\n",
            " 'Leading' 'Bullen' 'Better' 'Langwell' 'Kaye' 'Nicholls' 'Bowman'\n",
            " 'Boutique' 'Just' 'Home' 'McNaughton' 'Black' 'The' 'Open' 'Darras'\n",
            " 'Roger' 'Follett' 'Le' 'McEwing' 'Sandhurst' 'Avion' 'Boran'\n",
            " 'hockingstuart/hockingstuart' 'Area' 'MJ' 'Eric' 'SN' 'P' 'PRD' 'Bombay'\n",
            " 'Quinta' 'T' 'Rexhepi' 'Point' 'LJH' 'Munn' 'Justin' 'Blackbird'\n",
            " 'Sweeney/Burnham' 'H' 'Branon' 'Alex' 'Benchmark' 'Gellibrand'\n",
            " 'hockingstuart/Harcourts' 'Charter' 'Surreal' 'Upside' 'OBrien' 'Meallin'\n",
            " 'JY' 'Mark' 'For' 'Leaders' 'Shape' 'McGrath/Langwell' 'Benlor' 'Burns'\n",
            " 'K.R.Peters' 'Buxton/Buxton' 'Buxton/Marshall' 'CarlinSmith'\n",
            " 'hockingstuart/Sweeney' 'People' 'hockingstuart/Biggin' 'Mega' 'Skad'\n",
            " 'Wyndham' 'Create' 'Janice' 'G&H' 'Commercial' 'PSP' 'Unity'\n",
            " 'hockingstuart/Marshall' 'McGrath/First' 'Spencer' 'Sanctuary']\n",
            "33 ['Yarra City Council' 'Moonee Valley City Council'\n",
            " 'Port Phillip City Council' 'Darebin City Council'\n",
            " 'Hobsons Bay City Council' 'Stonnington City Council'\n",
            " 'Boroondara City Council' 'Monash City Council' 'Glen Eira City Council'\n",
            " 'Whitehorse City Council' 'Maribyrnong City Council'\n",
            " 'Bayside City Council' 'Moreland City Council' 'Manningham City Council'\n",
            " 'Melbourne City Council' 'Banyule City Council' 'Brimbank City Council'\n",
            " 'Kingston City Council' 'Hume City Council' 'Knox City Council'\n",
            " 'Maroondah City Council' 'Casey City Council' 'Melton City Council'\n",
            " 'Greater Dandenong City Council' 'Nillumbik Shire Council'\n",
            " 'Whittlesea City Council' 'Frankston City Council'\n",
            " 'Macedon Ranges Shire Council' 'Yarra Ranges Shire Council'\n",
            " 'Wyndham City Council' 'Cardinia Shire Council' 'Moorabool Shire Council'\n",
            " 'Mitchell Shire Council']\n",
            "8 ['Northern Metropolitan' 'Western Metropolitan' 'Southern Metropolitan'\n",
            " 'Eastern Metropolitan' 'South-Eastern Metropolitan' 'Eastern Victoria'\n",
            " 'Northern Victoria' 'Western Victoria']\n"
          ]
        }
      ]
    },
    {
      "cell_type": "code",
      "source": [
        "df4=df3.drop(['SellerG'],axis=1)"
      ],
      "metadata": {
        "id": "fN8cqovldDhB"
      },
      "execution_count": null,
      "outputs": []
    },
    {
      "cell_type": "code",
      "source": [
        "df4.dtypes"
      ],
      "metadata": {
        "colab": {
          "base_uri": "https://localhost:8080/"
        },
        "id": "mbH6hETuf_VP",
        "outputId": "225fba3b-686f-4c9c-d27a-36e25d3c4a44"
      },
      "execution_count": null,
      "outputs": [
        {
          "output_type": "execute_result",
          "data": {
            "text/plain": [
              "Suburb            object\n",
              "Rooms              int64\n",
              "Type              object\n",
              "Price            float64\n",
              "Method            object\n",
              "Distance         float64\n",
              "Bathroom         float64\n",
              "Car              float64\n",
              "Landsize         float64\n",
              "BuildingArea     float64\n",
              "CouncilArea       object\n",
              "Regionname        object\n",
              "Propertycount    float64\n",
              "dtype: object"
            ]
          },
          "metadata": {},
          "execution_count": 31
        }
      ]
    },
    {
      "cell_type": "code",
      "source": [
        "dd=pd.get_dummies(df4[['Suburb','Type','Method','CouncilArea','Regionname']],drop_first=True)\n",
        "df5=df4.drop(['Suburb','Type','Method','CouncilArea','Regionname'],axis=1)\n",
        "df5=pd.concat([df5,dd],axis=1)\n",
        "df5"
      ],
      "metadata": {
        "id": "G2HWt0tgqgw5",
        "colab": {
          "base_uri": "https://localhost:8080/",
          "height": 522
        },
        "outputId": "dfb46670-24e3-4c2f-dcc9-278d4a714f69"
      },
      "execution_count": null,
      "outputs": [
        {
          "output_type": "execute_result",
          "data": {
            "text/plain": [
              "       Rooms      Price  Distance  Bathroom  Car    Landsize  BuildingArea  \\\n",
              "1          2  1480000.0       2.5       1.0  1.0  202.000000      160.2564   \n",
              "2          2  1035000.0       2.5       1.0  0.0  156.000000       79.0000   \n",
              "4          3  1465000.0       2.5       2.0  0.0  134.000000      150.0000   \n",
              "5          3   850000.0       2.5       2.0  1.0   94.000000      160.2564   \n",
              "6          4  1600000.0       2.5       1.0  2.0  120.000000      142.0000   \n",
              "...      ...        ...       ...       ...  ...         ...           ...   \n",
              "34852      4  1480000.0       6.3       1.0  3.0  593.000000      160.2564   \n",
              "34853      2   888000.0       6.3       2.0  1.0   98.000000      104.0000   \n",
              "34854      2   705000.0       6.3       1.0  2.0  220.000000      120.0000   \n",
              "34855      3  1140000.0       6.3       0.0  0.0  593.598993      160.2564   \n",
              "34856      2  1020000.0       6.3       1.0  0.0  250.000000      103.0000   \n",
              "\n",
              "       Propertycount  Suburb_Aberfeldie  Suburb_Airport West  ...  \\\n",
              "1             4019.0                  0                    0  ...   \n",
              "2             4019.0                  0                    0  ...   \n",
              "4             4019.0                  0                    0  ...   \n",
              "5             4019.0                  0                    0  ...   \n",
              "6             4019.0                  0                    0  ...   \n",
              "...              ...                ...                  ...  ...   \n",
              "34852         6543.0                  0                    0  ...   \n",
              "34853         6543.0                  0                    0  ...   \n",
              "34854         6543.0                  0                    0  ...   \n",
              "34855         6543.0                  0                    0  ...   \n",
              "34856         6543.0                  0                    0  ...   \n",
              "\n",
              "       CouncilArea_Wyndham City Council  CouncilArea_Yarra City Council  \\\n",
              "1                                     0                               1   \n",
              "2                                     0                               1   \n",
              "4                                     0                               1   \n",
              "5                                     0                               1   \n",
              "6                                     0                               1   \n",
              "...                                 ...                             ...   \n",
              "34852                                 0                               0   \n",
              "34853                                 0                               0   \n",
              "34854                                 0                               0   \n",
              "34855                                 0                               0   \n",
              "34856                                 0                               0   \n",
              "\n",
              "       CouncilArea_Yarra Ranges Shire Council  Regionname_Eastern Victoria  \\\n",
              "1                                           0                            0   \n",
              "2                                           0                            0   \n",
              "4                                           0                            0   \n",
              "5                                           0                            0   \n",
              "6                                           0                            0   \n",
              "...                                       ...                          ...   \n",
              "34852                                       0                            0   \n",
              "34853                                       0                            0   \n",
              "34854                                       0                            0   \n",
              "34855                                       0                            0   \n",
              "34856                                       0                            0   \n",
              "\n",
              "       Regionname_Northern Metropolitan  Regionname_Northern Victoria  \\\n",
              "1                                     1                             0   \n",
              "2                                     1                             0   \n",
              "4                                     1                             0   \n",
              "5                                     1                             0   \n",
              "6                                     1                             0   \n",
              "...                                 ...                           ...   \n",
              "34852                                 0                             0   \n",
              "34853                                 0                             0   \n",
              "34854                                 0                             0   \n",
              "34855                                 0                             0   \n",
              "34856                                 0                             0   \n",
              "\n",
              "       Regionname_South-Eastern Metropolitan  \\\n",
              "1                                          0   \n",
              "2                                          0   \n",
              "4                                          0   \n",
              "5                                          0   \n",
              "6                                          0   \n",
              "...                                      ...   \n",
              "34852                                      0   \n",
              "34853                                      0   \n",
              "34854                                      0   \n",
              "34855                                      0   \n",
              "34856                                      0   \n",
              "\n",
              "       Regionname_Southern Metropolitan  Regionname_Western Metropolitan  \\\n",
              "1                                     0                                0   \n",
              "2                                     0                                0   \n",
              "4                                     0                                0   \n",
              "5                                     0                                0   \n",
              "6                                     0                                0   \n",
              "...                                 ...                              ...   \n",
              "34852                                 0                                1   \n",
              "34853                                 0                                1   \n",
              "34854                                 0                                1   \n",
              "34855                                 0                                1   \n",
              "34856                                 0                                1   \n",
              "\n",
              "       Regionname_Western Victoria  \n",
              "1                                0  \n",
              "2                                0  \n",
              "4                                0  \n",
              "5                                0  \n",
              "6                                0  \n",
              "...                            ...  \n",
              "34852                            0  \n",
              "34853                            0  \n",
              "34854                            0  \n",
              "34855                            0  \n",
              "34856                            0  \n",
              "\n",
              "[27244 rows x 213 columns]"
            ],
            "text/html": [
              "\n",
              "  <div id=\"df-9169d455-8a86-4d53-be72-703968659099\">\n",
              "    <div class=\"colab-df-container\">\n",
              "      <div>\n",
              "<style scoped>\n",
              "    .dataframe tbody tr th:only-of-type {\n",
              "        vertical-align: middle;\n",
              "    }\n",
              "\n",
              "    .dataframe tbody tr th {\n",
              "        vertical-align: top;\n",
              "    }\n",
              "\n",
              "    .dataframe thead th {\n",
              "        text-align: right;\n",
              "    }\n",
              "</style>\n",
              "<table border=\"1\" class=\"dataframe\">\n",
              "  <thead>\n",
              "    <tr style=\"text-align: right;\">\n",
              "      <th></th>\n",
              "      <th>Rooms</th>\n",
              "      <th>Price</th>\n",
              "      <th>Distance</th>\n",
              "      <th>Bathroom</th>\n",
              "      <th>Car</th>\n",
              "      <th>Landsize</th>\n",
              "      <th>BuildingArea</th>\n",
              "      <th>Propertycount</th>\n",
              "      <th>Suburb_Aberfeldie</th>\n",
              "      <th>Suburb_Airport West</th>\n",
              "      <th>...</th>\n",
              "      <th>CouncilArea_Wyndham City Council</th>\n",
              "      <th>CouncilArea_Yarra City Council</th>\n",
              "      <th>CouncilArea_Yarra Ranges Shire Council</th>\n",
              "      <th>Regionname_Eastern Victoria</th>\n",
              "      <th>Regionname_Northern Metropolitan</th>\n",
              "      <th>Regionname_Northern Victoria</th>\n",
              "      <th>Regionname_South-Eastern Metropolitan</th>\n",
              "      <th>Regionname_Southern Metropolitan</th>\n",
              "      <th>Regionname_Western Metropolitan</th>\n",
              "      <th>Regionname_Western Victoria</th>\n",
              "    </tr>\n",
              "  </thead>\n",
              "  <tbody>\n",
              "    <tr>\n",
              "      <th>1</th>\n",
              "      <td>2</td>\n",
              "      <td>1480000.0</td>\n",
              "      <td>2.5</td>\n",
              "      <td>1.0</td>\n",
              "      <td>1.0</td>\n",
              "      <td>202.000000</td>\n",
              "      <td>160.2564</td>\n",
              "      <td>4019.0</td>\n",
              "      <td>0</td>\n",
              "      <td>0</td>\n",
              "      <td>...</td>\n",
              "      <td>0</td>\n",
              "      <td>1</td>\n",
              "      <td>0</td>\n",
              "      <td>0</td>\n",
              "      <td>1</td>\n",
              "      <td>0</td>\n",
              "      <td>0</td>\n",
              "      <td>0</td>\n",
              "      <td>0</td>\n",
              "      <td>0</td>\n",
              "    </tr>\n",
              "    <tr>\n",
              "      <th>2</th>\n",
              "      <td>2</td>\n",
              "      <td>1035000.0</td>\n",
              "      <td>2.5</td>\n",
              "      <td>1.0</td>\n",
              "      <td>0.0</td>\n",
              "      <td>156.000000</td>\n",
              "      <td>79.0000</td>\n",
              "      <td>4019.0</td>\n",
              "      <td>0</td>\n",
              "      <td>0</td>\n",
              "      <td>...</td>\n",
              "      <td>0</td>\n",
              "      <td>1</td>\n",
              "      <td>0</td>\n",
              "      <td>0</td>\n",
              "      <td>1</td>\n",
              "      <td>0</td>\n",
              "      <td>0</td>\n",
              "      <td>0</td>\n",
              "      <td>0</td>\n",
              "      <td>0</td>\n",
              "    </tr>\n",
              "    <tr>\n",
              "      <th>4</th>\n",
              "      <td>3</td>\n",
              "      <td>1465000.0</td>\n",
              "      <td>2.5</td>\n",
              "      <td>2.0</td>\n",
              "      <td>0.0</td>\n",
              "      <td>134.000000</td>\n",
              "      <td>150.0000</td>\n",
              "      <td>4019.0</td>\n",
              "      <td>0</td>\n",
              "      <td>0</td>\n",
              "      <td>...</td>\n",
              "      <td>0</td>\n",
              "      <td>1</td>\n",
              "      <td>0</td>\n",
              "      <td>0</td>\n",
              "      <td>1</td>\n",
              "      <td>0</td>\n",
              "      <td>0</td>\n",
              "      <td>0</td>\n",
              "      <td>0</td>\n",
              "      <td>0</td>\n",
              "    </tr>\n",
              "    <tr>\n",
              "      <th>5</th>\n",
              "      <td>3</td>\n",
              "      <td>850000.0</td>\n",
              "      <td>2.5</td>\n",
              "      <td>2.0</td>\n",
              "      <td>1.0</td>\n",
              "      <td>94.000000</td>\n",
              "      <td>160.2564</td>\n",
              "      <td>4019.0</td>\n",
              "      <td>0</td>\n",
              "      <td>0</td>\n",
              "      <td>...</td>\n",
              "      <td>0</td>\n",
              "      <td>1</td>\n",
              "      <td>0</td>\n",
              "      <td>0</td>\n",
              "      <td>1</td>\n",
              "      <td>0</td>\n",
              "      <td>0</td>\n",
              "      <td>0</td>\n",
              "      <td>0</td>\n",
              "      <td>0</td>\n",
              "    </tr>\n",
              "    <tr>\n",
              "      <th>6</th>\n",
              "      <td>4</td>\n",
              "      <td>1600000.0</td>\n",
              "      <td>2.5</td>\n",
              "      <td>1.0</td>\n",
              "      <td>2.0</td>\n",
              "      <td>120.000000</td>\n",
              "      <td>142.0000</td>\n",
              "      <td>4019.0</td>\n",
              "      <td>0</td>\n",
              "      <td>0</td>\n",
              "      <td>...</td>\n",
              "      <td>0</td>\n",
              "      <td>1</td>\n",
              "      <td>0</td>\n",
              "      <td>0</td>\n",
              "      <td>1</td>\n",
              "      <td>0</td>\n",
              "      <td>0</td>\n",
              "      <td>0</td>\n",
              "      <td>0</td>\n",
              "      <td>0</td>\n",
              "    </tr>\n",
              "    <tr>\n",
              "      <th>...</th>\n",
              "      <td>...</td>\n",
              "      <td>...</td>\n",
              "      <td>...</td>\n",
              "      <td>...</td>\n",
              "      <td>...</td>\n",
              "      <td>...</td>\n",
              "      <td>...</td>\n",
              "      <td>...</td>\n",
              "      <td>...</td>\n",
              "      <td>...</td>\n",
              "      <td>...</td>\n",
              "      <td>...</td>\n",
              "      <td>...</td>\n",
              "      <td>...</td>\n",
              "      <td>...</td>\n",
              "      <td>...</td>\n",
              "      <td>...</td>\n",
              "      <td>...</td>\n",
              "      <td>...</td>\n",
              "      <td>...</td>\n",
              "      <td>...</td>\n",
              "    </tr>\n",
              "    <tr>\n",
              "      <th>34852</th>\n",
              "      <td>4</td>\n",
              "      <td>1480000.0</td>\n",
              "      <td>6.3</td>\n",
              "      <td>1.0</td>\n",
              "      <td>3.0</td>\n",
              "      <td>593.000000</td>\n",
              "      <td>160.2564</td>\n",
              "      <td>6543.0</td>\n",
              "      <td>0</td>\n",
              "      <td>0</td>\n",
              "      <td>...</td>\n",
              "      <td>0</td>\n",
              "      <td>0</td>\n",
              "      <td>0</td>\n",
              "      <td>0</td>\n",
              "      <td>0</td>\n",
              "      <td>0</td>\n",
              "      <td>0</td>\n",
              "      <td>0</td>\n",
              "      <td>1</td>\n",
              "      <td>0</td>\n",
              "    </tr>\n",
              "    <tr>\n",
              "      <th>34853</th>\n",
              "      <td>2</td>\n",
              "      <td>888000.0</td>\n",
              "      <td>6.3</td>\n",
              "      <td>2.0</td>\n",
              "      <td>1.0</td>\n",
              "      <td>98.000000</td>\n",
              "      <td>104.0000</td>\n",
              "      <td>6543.0</td>\n",
              "      <td>0</td>\n",
              "      <td>0</td>\n",
              "      <td>...</td>\n",
              "      <td>0</td>\n",
              "      <td>0</td>\n",
              "      <td>0</td>\n",
              "      <td>0</td>\n",
              "      <td>0</td>\n",
              "      <td>0</td>\n",
              "      <td>0</td>\n",
              "      <td>0</td>\n",
              "      <td>1</td>\n",
              "      <td>0</td>\n",
              "    </tr>\n",
              "    <tr>\n",
              "      <th>34854</th>\n",
              "      <td>2</td>\n",
              "      <td>705000.0</td>\n",
              "      <td>6.3</td>\n",
              "      <td>1.0</td>\n",
              "      <td>2.0</td>\n",
              "      <td>220.000000</td>\n",
              "      <td>120.0000</td>\n",
              "      <td>6543.0</td>\n",
              "      <td>0</td>\n",
              "      <td>0</td>\n",
              "      <td>...</td>\n",
              "      <td>0</td>\n",
              "      <td>0</td>\n",
              "      <td>0</td>\n",
              "      <td>0</td>\n",
              "      <td>0</td>\n",
              "      <td>0</td>\n",
              "      <td>0</td>\n",
              "      <td>0</td>\n",
              "      <td>1</td>\n",
              "      <td>0</td>\n",
              "    </tr>\n",
              "    <tr>\n",
              "      <th>34855</th>\n",
              "      <td>3</td>\n",
              "      <td>1140000.0</td>\n",
              "      <td>6.3</td>\n",
              "      <td>0.0</td>\n",
              "      <td>0.0</td>\n",
              "      <td>593.598993</td>\n",
              "      <td>160.2564</td>\n",
              "      <td>6543.0</td>\n",
              "      <td>0</td>\n",
              "      <td>0</td>\n",
              "      <td>...</td>\n",
              "      <td>0</td>\n",
              "      <td>0</td>\n",
              "      <td>0</td>\n",
              "      <td>0</td>\n",
              "      <td>0</td>\n",
              "      <td>0</td>\n",
              "      <td>0</td>\n",
              "      <td>0</td>\n",
              "      <td>1</td>\n",
              "      <td>0</td>\n",
              "    </tr>\n",
              "    <tr>\n",
              "      <th>34856</th>\n",
              "      <td>2</td>\n",
              "      <td>1020000.0</td>\n",
              "      <td>6.3</td>\n",
              "      <td>1.0</td>\n",
              "      <td>0.0</td>\n",
              "      <td>250.000000</td>\n",
              "      <td>103.0000</td>\n",
              "      <td>6543.0</td>\n",
              "      <td>0</td>\n",
              "      <td>0</td>\n",
              "      <td>...</td>\n",
              "      <td>0</td>\n",
              "      <td>0</td>\n",
              "      <td>0</td>\n",
              "      <td>0</td>\n",
              "      <td>0</td>\n",
              "      <td>0</td>\n",
              "      <td>0</td>\n",
              "      <td>0</td>\n",
              "      <td>1</td>\n",
              "      <td>0</td>\n",
              "    </tr>\n",
              "  </tbody>\n",
              "</table>\n",
              "<p>27244 rows × 213 columns</p>\n",
              "</div>\n",
              "      <button class=\"colab-df-convert\" onclick=\"convertToInteractive('df-9169d455-8a86-4d53-be72-703968659099')\"\n",
              "              title=\"Convert this dataframe to an interactive table.\"\n",
              "              style=\"display:none;\">\n",
              "        \n",
              "  <svg xmlns=\"http://www.w3.org/2000/svg\" height=\"24px\"viewBox=\"0 0 24 24\"\n",
              "       width=\"24px\">\n",
              "    <path d=\"M0 0h24v24H0V0z\" fill=\"none\"/>\n",
              "    <path d=\"M18.56 5.44l.94 2.06.94-2.06 2.06-.94-2.06-.94-.94-2.06-.94 2.06-2.06.94zm-11 1L8.5 8.5l.94-2.06 2.06-.94-2.06-.94L8.5 2.5l-.94 2.06-2.06.94zm10 10l.94 2.06.94-2.06 2.06-.94-2.06-.94-.94-2.06-.94 2.06-2.06.94z\"/><path d=\"M17.41 7.96l-1.37-1.37c-.4-.4-.92-.59-1.43-.59-.52 0-1.04.2-1.43.59L10.3 9.45l-7.72 7.72c-.78.78-.78 2.05 0 2.83L4 21.41c.39.39.9.59 1.41.59.51 0 1.02-.2 1.41-.59l7.78-7.78 2.81-2.81c.8-.78.8-2.07 0-2.86zM5.41 20L4 18.59l7.72-7.72 1.47 1.35L5.41 20z\"/>\n",
              "  </svg>\n",
              "      </button>\n",
              "      \n",
              "  <style>\n",
              "    .colab-df-container {\n",
              "      display:flex;\n",
              "      flex-wrap:wrap;\n",
              "      gap: 12px;\n",
              "    }\n",
              "\n",
              "    .colab-df-convert {\n",
              "      background-color: #E8F0FE;\n",
              "      border: none;\n",
              "      border-radius: 50%;\n",
              "      cursor: pointer;\n",
              "      display: none;\n",
              "      fill: #1967D2;\n",
              "      height: 32px;\n",
              "      padding: 0 0 0 0;\n",
              "      width: 32px;\n",
              "    }\n",
              "\n",
              "    .colab-df-convert:hover {\n",
              "      background-color: #E2EBFA;\n",
              "      box-shadow: 0px 1px 2px rgba(60, 64, 67, 0.3), 0px 1px 3px 1px rgba(60, 64, 67, 0.15);\n",
              "      fill: #174EA6;\n",
              "    }\n",
              "\n",
              "    [theme=dark] .colab-df-convert {\n",
              "      background-color: #3B4455;\n",
              "      fill: #D2E3FC;\n",
              "    }\n",
              "\n",
              "    [theme=dark] .colab-df-convert:hover {\n",
              "      background-color: #434B5C;\n",
              "      box-shadow: 0px 1px 3px 1px rgba(0, 0, 0, 0.15);\n",
              "      filter: drop-shadow(0px 1px 2px rgba(0, 0, 0, 0.3));\n",
              "      fill: #FFFFFF;\n",
              "    }\n",
              "  </style>\n",
              "\n",
              "      <script>\n",
              "        const buttonEl =\n",
              "          document.querySelector('#df-9169d455-8a86-4d53-be72-703968659099 button.colab-df-convert');\n",
              "        buttonEl.style.display =\n",
              "          google.colab.kernel.accessAllowed ? 'block' : 'none';\n",
              "\n",
              "        async function convertToInteractive(key) {\n",
              "          const element = document.querySelector('#df-9169d455-8a86-4d53-be72-703968659099');\n",
              "          const dataTable =\n",
              "            await google.colab.kernel.invokeFunction('convertToInteractive',\n",
              "                                                     [key], {});\n",
              "          if (!dataTable) return;\n",
              "\n",
              "          const docLinkHtml = 'Like what you see? Visit the ' +\n",
              "            '<a target=\"_blank\" href=https://colab.research.google.com/notebooks/data_table.ipynb>data table notebook</a>'\n",
              "            + ' to learn more about interactive tables.';\n",
              "          element.innerHTML = '';\n",
              "          dataTable['output_type'] = 'display_data';\n",
              "          await google.colab.output.renderOutput(dataTable, element);\n",
              "          const docLink = document.createElement('div');\n",
              "          docLink.innerHTML = docLinkHtml;\n",
              "          element.appendChild(docLink);\n",
              "        }\n",
              "      </script>\n",
              "    </div>\n",
              "  </div>\n",
              "  "
            ]
          },
          "metadata": {},
          "execution_count": 32
        }
      ]
    },
    {
      "cell_type": "markdown",
      "source": [
        "## Seperate Feature data and Target Data"
      ],
      "metadata": {
        "id": "2XkQl_ouwnVr"
      }
    },
    {
      "cell_type": "code",
      "source": [
        "x=df5.drop(['Price'],axis=1)\n",
        "y=df5['Price']"
      ],
      "metadata": {
        "id": "ZYO9iMhlv_xh"
      },
      "execution_count": null,
      "outputs": []
    },
    {
      "cell_type": "code",
      "source": [
        "cs=pd.Series(x.columns)"
      ],
      "metadata": {
        "id": "_AzOMAmlkD9C"
      },
      "execution_count": null,
      "outputs": []
    },
    {
      "cell_type": "code",
      "source": [
        "from sklearn.tree import ExtraTreeRegressor\n",
        "rg=ExtraTreeRegressor()\n",
        "rg.fit(x,y)\n",
        "fe=pd.DataFrame(rg.feature_importances_,columns=['imp'])\n",
        "pd.concat([cs,fe],axis=1).nlargest(10,'imp')"
      ],
      "metadata": {
        "colab": {
          "base_uri": "https://localhost:8080/"
        },
        "id": "9MHeMkYEh2OQ",
        "outputId": "7f6b0d19-56ea-4abd-e165-de8a8b7f1849"
      },
      "execution_count": null,
      "outputs": [
        {
          "output_type": "execute_result",
          "data": {
            "text/plain": [
              "                                    0       imp\n",
              "168                            Type_u  0.222530\n",
              "209  Regionname_Southern Metropolitan  0.135259\n",
              "2                            Bathroom  0.089557\n",
              "0                               Rooms  0.076518\n",
              "1                            Distance  0.072279\n",
              "4                            Landsize  0.059271\n",
              "167                            Type_t  0.038220\n",
              "5                        BuildingArea  0.031447\n",
              "3                                 Car  0.021375\n",
              "193   CouncilArea_Monash City Council  0.017570"
            ],
            "text/html": [
              "\n",
              "  <div id=\"df-7f1ffdff-aace-4eae-b1fe-3e698c2f7d89\">\n",
              "    <div class=\"colab-df-container\">\n",
              "      <div>\n",
              "<style scoped>\n",
              "    .dataframe tbody tr th:only-of-type {\n",
              "        vertical-align: middle;\n",
              "    }\n",
              "\n",
              "    .dataframe tbody tr th {\n",
              "        vertical-align: top;\n",
              "    }\n",
              "\n",
              "    .dataframe thead th {\n",
              "        text-align: right;\n",
              "    }\n",
              "</style>\n",
              "<table border=\"1\" class=\"dataframe\">\n",
              "  <thead>\n",
              "    <tr style=\"text-align: right;\">\n",
              "      <th></th>\n",
              "      <th>0</th>\n",
              "      <th>imp</th>\n",
              "    </tr>\n",
              "  </thead>\n",
              "  <tbody>\n",
              "    <tr>\n",
              "      <th>168</th>\n",
              "      <td>Type_u</td>\n",
              "      <td>0.222530</td>\n",
              "    </tr>\n",
              "    <tr>\n",
              "      <th>209</th>\n",
              "      <td>Regionname_Southern Metropolitan</td>\n",
              "      <td>0.135259</td>\n",
              "    </tr>\n",
              "    <tr>\n",
              "      <th>2</th>\n",
              "      <td>Bathroom</td>\n",
              "      <td>0.089557</td>\n",
              "    </tr>\n",
              "    <tr>\n",
              "      <th>0</th>\n",
              "      <td>Rooms</td>\n",
              "      <td>0.076518</td>\n",
              "    </tr>\n",
              "    <tr>\n",
              "      <th>1</th>\n",
              "      <td>Distance</td>\n",
              "      <td>0.072279</td>\n",
              "    </tr>\n",
              "    <tr>\n",
              "      <th>4</th>\n",
              "      <td>Landsize</td>\n",
              "      <td>0.059271</td>\n",
              "    </tr>\n",
              "    <tr>\n",
              "      <th>167</th>\n",
              "      <td>Type_t</td>\n",
              "      <td>0.038220</td>\n",
              "    </tr>\n",
              "    <tr>\n",
              "      <th>5</th>\n",
              "      <td>BuildingArea</td>\n",
              "      <td>0.031447</td>\n",
              "    </tr>\n",
              "    <tr>\n",
              "      <th>3</th>\n",
              "      <td>Car</td>\n",
              "      <td>0.021375</td>\n",
              "    </tr>\n",
              "    <tr>\n",
              "      <th>193</th>\n",
              "      <td>CouncilArea_Monash City Council</td>\n",
              "      <td>0.017570</td>\n",
              "    </tr>\n",
              "  </tbody>\n",
              "</table>\n",
              "</div>\n",
              "      <button class=\"colab-df-convert\" onclick=\"convertToInteractive('df-7f1ffdff-aace-4eae-b1fe-3e698c2f7d89')\"\n",
              "              title=\"Convert this dataframe to an interactive table.\"\n",
              "              style=\"display:none;\">\n",
              "        \n",
              "  <svg xmlns=\"http://www.w3.org/2000/svg\" height=\"24px\"viewBox=\"0 0 24 24\"\n",
              "       width=\"24px\">\n",
              "    <path d=\"M0 0h24v24H0V0z\" fill=\"none\"/>\n",
              "    <path d=\"M18.56 5.44l.94 2.06.94-2.06 2.06-.94-2.06-.94-.94-2.06-.94 2.06-2.06.94zm-11 1L8.5 8.5l.94-2.06 2.06-.94-2.06-.94L8.5 2.5l-.94 2.06-2.06.94zm10 10l.94 2.06.94-2.06 2.06-.94-2.06-.94-.94-2.06-.94 2.06-2.06.94z\"/><path d=\"M17.41 7.96l-1.37-1.37c-.4-.4-.92-.59-1.43-.59-.52 0-1.04.2-1.43.59L10.3 9.45l-7.72 7.72c-.78.78-.78 2.05 0 2.83L4 21.41c.39.39.9.59 1.41.59.51 0 1.02-.2 1.41-.59l7.78-7.78 2.81-2.81c.8-.78.8-2.07 0-2.86zM5.41 20L4 18.59l7.72-7.72 1.47 1.35L5.41 20z\"/>\n",
              "  </svg>\n",
              "      </button>\n",
              "      \n",
              "  <style>\n",
              "    .colab-df-container {\n",
              "      display:flex;\n",
              "      flex-wrap:wrap;\n",
              "      gap: 12px;\n",
              "    }\n",
              "\n",
              "    .colab-df-convert {\n",
              "      background-color: #E8F0FE;\n",
              "      border: none;\n",
              "      border-radius: 50%;\n",
              "      cursor: pointer;\n",
              "      display: none;\n",
              "      fill: #1967D2;\n",
              "      height: 32px;\n",
              "      padding: 0 0 0 0;\n",
              "      width: 32px;\n",
              "    }\n",
              "\n",
              "    .colab-df-convert:hover {\n",
              "      background-color: #E2EBFA;\n",
              "      box-shadow: 0px 1px 2px rgba(60, 64, 67, 0.3), 0px 1px 3px 1px rgba(60, 64, 67, 0.15);\n",
              "      fill: #174EA6;\n",
              "    }\n",
              "\n",
              "    [theme=dark] .colab-df-convert {\n",
              "      background-color: #3B4455;\n",
              "      fill: #D2E3FC;\n",
              "    }\n",
              "\n",
              "    [theme=dark] .colab-df-convert:hover {\n",
              "      background-color: #434B5C;\n",
              "      box-shadow: 0px 1px 3px 1px rgba(0, 0, 0, 0.15);\n",
              "      filter: drop-shadow(0px 1px 2px rgba(0, 0, 0, 0.3));\n",
              "      fill: #FFFFFF;\n",
              "    }\n",
              "  </style>\n",
              "\n",
              "      <script>\n",
              "        const buttonEl =\n",
              "          document.querySelector('#df-7f1ffdff-aace-4eae-b1fe-3e698c2f7d89 button.colab-df-convert');\n",
              "        buttonEl.style.display =\n",
              "          google.colab.kernel.accessAllowed ? 'block' : 'none';\n",
              "\n",
              "        async function convertToInteractive(key) {\n",
              "          const element = document.querySelector('#df-7f1ffdff-aace-4eae-b1fe-3e698c2f7d89');\n",
              "          const dataTable =\n",
              "            await google.colab.kernel.invokeFunction('convertToInteractive',\n",
              "                                                     [key], {});\n",
              "          if (!dataTable) return;\n",
              "\n",
              "          const docLinkHtml = 'Like what you see? Visit the ' +\n",
              "            '<a target=\"_blank\" href=https://colab.research.google.com/notebooks/data_table.ipynb>data table notebook</a>'\n",
              "            + ' to learn more about interactive tables.';\n",
              "          element.innerHTML = '';\n",
              "          dataTable['output_type'] = 'display_data';\n",
              "          await google.colab.output.renderOutput(dataTable, element);\n",
              "          const docLink = document.createElement('div');\n",
              "          docLink.innerHTML = docLinkHtml;\n",
              "          element.appendChild(docLink);\n",
              "        }\n",
              "      </script>\n",
              "    </div>\n",
              "  </div>\n",
              "  "
            ]
          },
          "metadata": {},
          "execution_count": 35
        }
      ]
    },
    {
      "cell_type": "code",
      "source": [
        "# from sklearn.preprocessing import StandardScaler\n",
        "# ss=StandardScaler()\n",
        "# t=ss.fit_transform(x)\n",
        "# x=pd.DataFrame(t,columns=x.columns)\n",
        "# x"
      ],
      "metadata": {
        "id": "_10j2Yf_4feW"
      },
      "execution_count": null,
      "outputs": []
    },
    {
      "cell_type": "markdown",
      "source": [
        "# Working with Model"
      ],
      "metadata": {
        "id": "ojPykm2Pra8o"
      }
    },
    {
      "cell_type": "markdown",
      "source": [
        "## Train model"
      ],
      "metadata": {
        "id": "WmjiaXBvxDFj"
      }
    },
    {
      "cell_type": "markdown",
      "source": [
        "## Linear Regression"
      ],
      "metadata": {
        "id": "6Lmgpxtl_kvl"
      }
    },
    {
      "cell_type": "code",
      "source": [
        "from sklearn.model_selection import train_test_split\n",
        "x_train,x_test,y_train,y_test=train_test_split(x,y,test_size=0.2)"
      ],
      "metadata": {
        "id": "GQ6yf49AxJ66"
      },
      "execution_count": null,
      "outputs": []
    },
    {
      "cell_type": "code",
      "source": [
        "from sklearn import linear_model\n",
        "reg=linear_model.LinearRegression()\n",
        "reg.fit(x_train,y_train)"
      ],
      "metadata": {
        "id": "BSn8oHofRyGj",
        "colab": {
          "base_uri": "https://localhost:8080/"
        },
        "outputId": "16d775da-7082-4e0d-e0ee-b2abd9a8ac4f"
      },
      "execution_count": null,
      "outputs": [
        {
          "output_type": "execute_result",
          "data": {
            "text/plain": [
              "LinearRegression()"
            ]
          },
          "metadata": {},
          "execution_count": 38
        }
      ]
    },
    {
      "cell_type": "code",
      "source": [
        "reg.score(x_train,y_train)"
      ],
      "metadata": {
        "id": "atEzSdoNPEqv",
        "colab": {
          "base_uri": "https://localhost:8080/"
        },
        "outputId": "fc5812f5-3e7e-47a2-9a79-1470f8a9fc3c"
      },
      "execution_count": null,
      "outputs": [
        {
          "output_type": "execute_result",
          "data": {
            "text/plain": [
              "0.642915223566276"
            ]
          },
          "metadata": {},
          "execution_count": 39
        }
      ]
    },
    {
      "cell_type": "code",
      "source": [
        "reg.score(x_test,y_test)"
      ],
      "metadata": {
        "id": "Oe-7s5qWPMLa",
        "colab": {
          "base_uri": "https://localhost:8080/"
        },
        "outputId": "89b8b060-1740-46f2-928d-1292e71d1861"
      },
      "execution_count": null,
      "outputs": [
        {
          "output_type": "execute_result",
          "data": {
            "text/plain": [
              "0.6387164186277732"
            ]
          },
          "metadata": {},
          "execution_count": 40
        }
      ]
    },
    {
      "cell_type": "markdown",
      "source": [
        "## Regularization"
      ],
      "metadata": {
        "id": "LwdeNKxNjrOn"
      }
    },
    {
      "cell_type": "code",
      "source": [
        "from sklearn.linear_model import Ridge,Lasso\n",
        "def regularization(ra=100,la=100):\n",
        "  rr=Ridge(alpha=ra,max_iter=1000)\n",
        "  rr.fit(x_train,y_train)\n",
        "  print('Ridge_Train_score:\\n',rr.score(x_train,y_train))\n",
        "  print('Ridge_Test_score:\\n',rr.score(x_test,y_test))\n",
        "  ls=Ridge(alpha=la,max_iter=1000)\n",
        "  ls.fit(x_train,y_train)\n",
        "  print('Lasso_Train_score:\\n',ls.score(x_train,y_train))\n",
        "  print('Lasso_Test_score:\\n',ls.score(x_test,y_test))\n",
        "regularization(20,20)\n"
      ],
      "metadata": {
        "id": "ofR9P9Ppjt93",
        "colab": {
          "base_uri": "https://localhost:8080/"
        },
        "outputId": "875883e2-c262-4193-8559-09c6bc91a32c"
      },
      "execution_count": null,
      "outputs": [
        {
          "output_type": "stream",
          "name": "stdout",
          "text": [
            "Ridge_Train_score:\n",
            " 0.6389420195866103\n",
            "Ridge_Test_score:\n",
            " 0.6352886940022207\n",
            "Lasso_Train_score:\n",
            " 0.6389420195866103\n",
            "Lasso_Test_score:\n",
            " 0.6352886940022207\n"
          ]
        }
      ]
    },
    {
      "cell_type": "markdown",
      "source": [
        "## Cross Validation"
      ],
      "metadata": {
        "id": "7q35tlrQ_Yp2"
      }
    },
    {
      "cell_type": "code",
      "source": [
        "from sklearn.tree import DecisionTreeRegressor\n",
        "from sklearn.neighbors import KNeighborsRegressor\n",
        "from sklearn.ensemble import RandomForestRegressor\n",
        "from xgboost import XGBRFRegressor\n",
        "from sklearn.ensemble import AdaBoostRegressor\n",
        "from sklearn.svm import SVR"
      ],
      "metadata": {
        "id": "uMS9ftDM_hYF"
      },
      "execution_count": null,
      "outputs": []
    },
    {
      "cell_type": "code",
      "source": [
        "model = [DecisionTreeRegressor,RandomForestRegressor,KNeighborsRegressor,XGBRFRegressor]\n",
        "\n",
        "for mod in model:\n",
        "    reg = mod()\n",
        "    reg = reg.fit(x_train,y_train)\n",
        "    print(mod , 'accuracy',reg.score(x_test,y_test))"
      ],
      "metadata": {
        "colab": {
          "base_uri": "https://localhost:8080/"
        },
        "id": "d0iSL74mlaGD",
        "outputId": "790efe32-4007-458c-c624-ece83f41489b"
      },
      "execution_count": null,
      "outputs": [
        {
          "output_type": "stream",
          "name": "stdout",
          "text": [
            "<class 'sklearn.tree._classes.DecisionTreeRegressor'> accuracy 0.5705290869468121\n",
            "<class 'sklearn.ensemble._forest.RandomForestRegressor'> accuracy 0.7610231448704067\n",
            "<class 'sklearn.neighbors._regression.KNeighborsRegressor'> accuracy 0.5409449996849506\n",
            "[12:35:23] WARNING: /workspace/src/objective/regression_obj.cu:152: reg:linear is now deprecated in favor of reg:squarederror.\n",
            "<class 'xgboost.sklearn.XGBRFRegressor'> accuracy 0.5253143900661514\n"
          ]
        }
      ]
    },
    {
      "cell_type": "code",
      "source": [
        "# from sklearn.model_selection import KFold,cross_val_score\n",
        "# models = []\n",
        "# models.append(('KNN', KNeighborsRegressor()))\n",
        "# models.append(('CART', DecisionTreeRegressor()))\n",
        "# models.append(('RF', RandomForestRegressor()))\n",
        "# models.append(('XGB', XGBRFRegressor()))\n",
        "\n",
        "# results = []\n",
        "# names = []\n",
        "# for name,model in models:\n",
        "#     kfold = KFold(n_splits=10)\n",
        "#     cv_result =cross_val_score(model,x_train,y_train,cv=kfold)\n",
        "#     names.append(name)\n",
        "#     results.append(cv_result)\n",
        "# for i in range(len(names)):\n",
        "#     print(names[i],results[i].mean())"
      ],
      "metadata": {
        "id": "Uh5ZzNLbnK55"
      },
      "execution_count": null,
      "outputs": []
    },
    {
      "cell_type": "code",
      "source": [
        "from sklearn.ensemble import RandomForestRegressor\n",
        "model=RandomForestRegressor(n_estimators=100)\n",
        "model.fit(x_train,y_train)\n",
        "model.score(x_test,y_test)"
      ],
      "metadata": {
        "id": "61M1QNio88Bm",
        "colab": {
          "base_uri": "https://localhost:8080/"
        },
        "outputId": "b4b3ab3d-e62a-4b55-a21d-dbd422325fb7"
      },
      "execution_count": null,
      "outputs": [
        {
          "output_type": "execute_result",
          "data": {
            "text/plain": [
              "0.760793506021942"
            ]
          },
          "metadata": {},
          "execution_count": 45
        }
      ]
    },
    {
      "cell_type": "markdown",
      "source": [
        "## Hyperparameter Tuning"
      ],
      "metadata": {
        "id": "6JSqMAtD_EP4"
      }
    },
    {
      "cell_type": "code",
      "source": [
        "from sklearn.model_selection import RandomizedSearchCV\n",
        "\n",
        "n_estimators = [int(x) for x in np.linspace(start = 100, stop = 1200, num = 12)]\n",
        "max_features = ['auto', 'sqrt']\n",
        "max_depth = [int(x) for x in np.linspace(5, 30, num = 6)]\n",
        "min_samples_split = [2, 5, 10, 15, 100]\n",
        "min_samples_leaf = [1, 2, 5, 10]\n",
        "\n",
        "random_grid = {'n_estimators': n_estimators,\n",
        "               'max_features': max_features,\n",
        "               'max_depth': max_depth,\n",
        "               'min_samples_split': min_samples_split,\n",
        "               'min_samples_leaf': min_samples_leaf}\n",
        "\n",
        "\n",
        "rf_random = RandomizedSearchCV(estimator = model, \n",
        "                               param_distributions = random_grid,\n",
        "                               scoring='neg_mean_squared_error', \n",
        "                               n_iter = 10, cv = 5,\n",
        "                               verbose=2,\n",
        "                               random_state=42, n_jobs = 1)"
      ],
      "metadata": {
        "id": "VPYIT_esp0Ju"
      },
      "execution_count": null,
      "outputs": []
    },
    {
      "cell_type": "code",
      "source": [
        "# rf_random.fit(x_train,y_train)"
      ],
      "metadata": {
        "id": "-XOf12i4qAhT"
      },
      "execution_count": null,
      "outputs": []
    },
    {
      "cell_type": "markdown",
      "source": [
        "### best parameter"
      ],
      "metadata": {
        "id": "L0flbjOL_JB6"
      }
    },
    {
      "cell_type": "code",
      "source": [
        "rf_random.best_params_"
      ],
      "metadata": {
        "colab": {
          "base_uri": "https://localhost:8080/",
          "height": 165
        },
        "id": "dO9r54m68-Z1",
        "outputId": "18f3b86e-9ad1-4b0c-f511-9fa3b41ec54b"
      },
      "execution_count": null,
      "outputs": [
        {
          "output_type": "error",
          "ename": "AttributeError",
          "evalue": "ignored",
          "traceback": [
            "\u001b[0;31m---------------------------------------------------------------------------\u001b[0m",
            "\u001b[0;31mAttributeError\u001b[0m                            Traceback (most recent call last)",
            "\u001b[0;32m<ipython-input-48-ea266b0743c6>\u001b[0m in \u001b[0;36m<module>\u001b[0;34m()\u001b[0m\n\u001b[0;32m----> 1\u001b[0;31m \u001b[0mrf_random\u001b[0m\u001b[0;34m.\u001b[0m\u001b[0mbest_params_\u001b[0m\u001b[0;34m\u001b[0m\u001b[0;34m\u001b[0m\u001b[0m\n\u001b[0m",
            "\u001b[0;31mAttributeError\u001b[0m: 'RandomizedSearchCV' object has no attribute 'best_params_'"
          ]
        }
      ]
    },
    {
      "cell_type": "code",
      "source": [
        "from sklearn.ensemble import RandomForestRegressor\n",
        "model=RandomForestRegressor(max_depth=20,max_features='auto',min_samples_leaf=1,min_samples_split=15,n_estimators=700)\n",
        "model.fit(x_train,y_train)\n",
        "model.score(x_test,y_test)"
      ],
      "metadata": {
        "id": "KEuhyqx_9Hy1"
      },
      "execution_count": null,
      "outputs": []
    }
  ]
}