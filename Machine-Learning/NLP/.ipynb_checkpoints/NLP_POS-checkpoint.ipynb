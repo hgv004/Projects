{
 "cells": [
  {
   "cell_type": "markdown",
   "id": "69039560",
   "metadata": {},
   "source": [
    "# Exercise for Spacy POS tutorial,\n",
    "\n",
    "1) You are parsing a news story from cnbc.com. News story is stores in [news_story.txt](https://github.com/codebasics/nlp-tutorials/blob/main/7_pos/news_story.txt) which is available in this same folder on github. You need to,\n",
    "   1) Extract all NOUN tokens from this story. You will have to read the file in python first to collect all the text and then extract NOUNs in a python list\n",
    "   2) Extract all numbers (NUM POS type) in a python list\n",
    "   3) Print a count of all POS tags in this story"
   ]
  },
  {
   "cell_type": "code",
   "execution_count": null,
   "id": "811ee6a8",
   "metadata": {},
   "outputs": [],
   "source": [
    "import spacy"
   ]
  },
  {
   "cell_type": "code",
   "execution_count": 11,
   "id": "347a1e8b",
   "metadata": {},
   "outputs": [],
   "source": [
    "nlp=spacy.load('en_core_web_sm')"
   ]
  },
  {
   "cell_type": "code",
   "execution_count": 17,
   "id": "0ae08db5",
   "metadata": {},
   "outputs": [
    {
     "data": {
      "text/plain": [
       "'Inflation rose again in April, continuing a climb that has pushed consumers to the brink and is threatening the economic expansion, the Bureau of Labor Statistics reported Wednesday.\\n\\nThe consumer price index, a broad-based measure of prices for goods and services, increased 8.3% from a year ago, higher than the Dow Jones estimate for an 8.1% gain. That represented a slight ease from Marchâ€™s peak but was still close to the highest level since the summer of 1982.\\n\\nRemoving volatile food and energy prices, so-called core CPI still rose 6.2%, against expectations for a 6% gain, clouding hopes that inflation had peaked in March.\\n\\nThe month-over-month gains also were higher than expectations â€” 0.3% on headline CPI versus the 0.2% estimate and a 0.6% increase for core, against the outlook for a 0.4% gain.\\n\\nThe price gains also meant that workers continued to lose ground. Real wages adjusted for inflation decreased 0.1% on the month despite a nominal increase of 0.3% in average hourly earnings. Over the past year, real earnings have dropped 2.6% even though average hourly earnings are up 5.5%.\\n\\nInflation has been the single biggest threat to a recovery that began early in the Covid pandemic and saw the economy in 2021 stage its biggest single-year growth level since 1984. Rising prices at the pump and in grocery stores have been one problem, but inflation has spread beyond those two areas into housing, auto sales and a host of other areas.\\n\\nFederal Reserve officials have responded to the problem with two interest rate hikes so far this year and pledges of more until inflation comes down to the central bankâ€™s 2% goal. However, Wednesdayâ€™s data shows that the Fed has a big job ahead.\\n\\nCredits: cnbc.com'"
      ]
     },
     "execution_count": 17,
     "metadata": {},
     "output_type": "execute_result"
    }
   ],
   "source": [
    "file=open('news_story.txt','r').read()\n",
    "file"
   ]
  },
  {
   "cell_type": "code",
   "execution_count": 24,
   "id": "2672c930",
   "metadata": {},
   "outputs": [],
   "source": [
    "doc=nlp(file)"
   ]
  },
  {
   "cell_type": "code",
   "execution_count": 21,
   "id": "a7569ffc",
   "metadata": {},
   "outputs": [
    {
     "data": {
      "text/plain": [
       "['_',\n",
       " '__bytes__',\n",
       " '__class__',\n",
       " '__delattr__',\n",
       " '__dir__',\n",
       " '__doc__',\n",
       " '__eq__',\n",
       " '__format__',\n",
       " '__ge__',\n",
       " '__getattribute__',\n",
       " '__gt__',\n",
       " '__hash__',\n",
       " '__init__',\n",
       " '__init_subclass__',\n",
       " '__le__',\n",
       " '__len__',\n",
       " '__lt__',\n",
       " '__ne__',\n",
       " '__new__',\n",
       " '__pyx_vtable__',\n",
       " '__reduce__',\n",
       " '__reduce_ex__',\n",
       " '__repr__',\n",
       " '__setattr__',\n",
       " '__sizeof__',\n",
       " '__str__',\n",
       " '__subclasshook__',\n",
       " '__unicode__',\n",
       " 'ancestors',\n",
       " 'check_flag',\n",
       " 'children',\n",
       " 'cluster',\n",
       " 'conjuncts',\n",
       " 'dep',\n",
       " 'dep_',\n",
       " 'doc',\n",
       " 'ent_id',\n",
       " 'ent_id_',\n",
       " 'ent_iob',\n",
       " 'ent_iob_',\n",
       " 'ent_kb_id',\n",
       " 'ent_kb_id_',\n",
       " 'ent_type',\n",
       " 'ent_type_',\n",
       " 'get_extension',\n",
       " 'has_dep',\n",
       " 'has_extension',\n",
       " 'has_head',\n",
       " 'has_morph',\n",
       " 'has_vector',\n",
       " 'head',\n",
       " 'i',\n",
       " 'idx',\n",
       " 'iob_strings',\n",
       " 'is_alpha',\n",
       " 'is_ancestor',\n",
       " 'is_ascii',\n",
       " 'is_bracket',\n",
       " 'is_currency',\n",
       " 'is_digit',\n",
       " 'is_left_punct',\n",
       " 'is_lower',\n",
       " 'is_oov',\n",
       " 'is_punct',\n",
       " 'is_quote',\n",
       " 'is_right_punct',\n",
       " 'is_sent_end',\n",
       " 'is_sent_start',\n",
       " 'is_space',\n",
       " 'is_stop',\n",
       " 'is_title',\n",
       " 'is_upper',\n",
       " 'lang',\n",
       " 'lang_',\n",
       " 'left_edge',\n",
       " 'lefts',\n",
       " 'lemma',\n",
       " 'lemma_',\n",
       " 'lex',\n",
       " 'lex_id',\n",
       " 'like_email',\n",
       " 'like_num',\n",
       " 'like_url',\n",
       " 'lower',\n",
       " 'lower_',\n",
       " 'morph',\n",
       " 'n_lefts',\n",
       " 'n_rights',\n",
       " 'nbor',\n",
       " 'norm',\n",
       " 'norm_',\n",
       " 'orth',\n",
       " 'orth_',\n",
       " 'pos',\n",
       " 'pos_',\n",
       " 'prefix',\n",
       " 'prefix_',\n",
       " 'prob',\n",
       " 'rank',\n",
       " 'remove_extension',\n",
       " 'right_edge',\n",
       " 'rights',\n",
       " 'sent',\n",
       " 'sent_start',\n",
       " 'sentiment',\n",
       " 'set_extension',\n",
       " 'set_morph',\n",
       " 'shape',\n",
       " 'shape_',\n",
       " 'similarity',\n",
       " 'subtree',\n",
       " 'suffix',\n",
       " 'suffix_',\n",
       " 'tag',\n",
       " 'tag_',\n",
       " 'tensor',\n",
       " 'text',\n",
       " 'text_with_ws',\n",
       " 'vector',\n",
       " 'vector_norm',\n",
       " 'vocab',\n",
       " 'whitespace_']"
      ]
     },
     "execution_count": 21,
     "metadata": {},
     "output_type": "execute_result"
    }
   ],
   "source": [
    "dir(doc[0])"
   ]
  },
  {
   "cell_type": "code",
   "execution_count": 33,
   "id": "045561ba",
   "metadata": {},
   "outputs": [
    {
     "data": {
      "text/plain": [
       "{'ADJ',\n",
       " 'ADP',\n",
       " 'ADV',\n",
       " 'AUX',\n",
       " 'CCONJ',\n",
       " 'DET',\n",
       " 'NOUN',\n",
       " 'NUM',\n",
       " 'PART',\n",
       " 'PRON',\n",
       " 'PROPN',\n",
       " 'PUNCT',\n",
       " 'SCONJ',\n",
       " 'SPACE',\n",
       " 'SYM',\n",
       " 'VERB',\n",
       " 'X'}"
      ]
     },
     "execution_count": 33,
     "metadata": {},
     "output_type": "execute_result"
    }
   ],
   "source": [
    "pos=[]\n",
    "for token in doc:\n",
    "    pos.append(token.pos_)\n",
    "pos=set(pos)\n",
    "pos"
   ]
  },
  {
   "cell_type": "markdown",
   "id": "02c33b95",
   "metadata": {},
   "source": [
    "## Extract all NOUN tokens from this story. You will have to read the file in python first to collect all the text and then extract NOUNs in a python list"
   ]
  },
  {
   "cell_type": "code",
   "execution_count": 30,
   "id": "0b8b8667",
   "metadata": {},
   "outputs": [
    {
     "name": "stdout",
     "output_type": "stream",
     "text": [
      "[Inflation, climb, consumers, brink, expansion, consumer, price, index, measure, prices, goods, services, %, year, estimate, %, gain, ease, peak, level, summer, food, energy, prices, core, %, expectations, %, gain, hopes, inflation, month, month, gains, expectations, %, headline, %, estimate, %, increase, core, outlook, %, gain, price, gains, workers, ground, wages, inflation, %, month, increase, %, earnings, year, earnings, %, earnings, %, Inflation, threat, recovery, pandemic, economy, stage, year, growth, level, prices, pump, grocery, stores, problem, inflation, areas, housing, auto, sales, host, areas, officials, problem, interest, rate, hikes, year, pledges, inflation, bankâ€, %, goal, data, job, Credits]\n"
     ]
    }
   ],
   "source": [
    "nouns=[token for token in doc if token.pos_=='NOUN']\n",
    "print(nouns)"
   ]
  },
  {
   "cell_type": "markdown",
   "id": "f9cedafb",
   "metadata": {},
   "source": [
    "## Extract all numbers (NUM POS type) in a python list"
   ]
  },
  {
   "cell_type": "code",
   "execution_count": 34,
   "id": "aa4918ef",
   "metadata": {},
   "outputs": [
    {
     "name": "stdout",
     "output_type": "stream",
     "text": [
      "[8.3, 8.1, 1982, 6.2, 6, â€, 0.3, 0.2, 0.6, 0.4, 0.1, 0.3, 2.6, 5.5, 2021, 1984, one, two, two, 2]\n"
     ]
    }
   ],
   "source": [
    "nums=[token for token in doc if token.pos_=='NUM']\n",
    "print(nums)"
   ]
  },
  {
   "cell_type": "markdown",
   "id": "3d2badfc",
   "metadata": {},
   "source": [
    "## Print a count of all POS tags in this story"
   ]
  },
  {
   "cell_type": "code",
   "execution_count": 39,
   "id": "b4174313",
   "metadata": {},
   "outputs": [],
   "source": [
    "tag=[]\n",
    "for token in doc:\n",
    "    tag.append(token.tag_)"
   ]
  },
  {
   "cell_type": "code",
   "execution_count": 46,
   "id": "f1baf3a2",
   "metadata": {},
   "outputs": [
    {
     "data": {
      "text/plain": [
       "{15308085513773655218: 72,\n",
       " 17109001835818727656: 13,\n",
       " 164681854541413346: 15,\n",
       " 1292078113972184607: 46,\n",
       " 15794550382381185553: 16,\n",
       " 2593208677638477497: 13,\n",
       " 1534113631682161808: 5,\n",
       " 15267657372422890137: 35,\n",
       " 17202369883303991778: 2,\n",
       " 13927759927860985106: 7,\n",
       " 3822385049556375858: 10,\n",
       " 783433942507015291: 24,\n",
       " 17571114184892886314: 10,\n",
       " 10554686591937588953: 17,\n",
       " 11233576250605462493: 2,\n",
       " 12646065887601541794: 12,\n",
       " 6893682062797376370: 7,\n",
       " 8214596291009089021: 5,\n",
       " 8427216679587749980: 20,\n",
       " 272890857012483650: 3,\n",
       " 74: 3,\n",
       " 14753207560692742245: 3,\n",
       " 14143520107006108953: 1,\n",
       " 5595707737748328492: 1,\n",
       " 14200088355797579614: 1,\n",
       " 9188597074677201817: 4,\n",
       " 4062917326063685704: 1,\n",
       " 6860118812490040284: 1,\n",
       " 99: 1,\n",
       " 11532473245541075862: 1,\n",
       " 8812103347613839895: 1}"
      ]
     },
     "execution_count": 46,
     "metadata": {},
     "output_type": "execute_result"
    }
   ],
   "source": [
    "count = doc.count_by(spacy.attrs.TAG)\n",
    "count"
   ]
  },
  {
   "cell_type": "code",
   "execution_count": 49,
   "id": "e4f5b3f1",
   "metadata": {},
   "outputs": [
    {
     "data": {
      "text/plain": [
       "'NN'"
      ]
     },
     "execution_count": 49,
     "metadata": {},
     "output_type": "execute_result"
    }
   ],
   "source": [
    "doc.vocab[15308085513773655218].text"
   ]
  },
  {
   "cell_type": "code",
   "execution_count": 51,
   "id": "ca30831e",
   "metadata": {},
   "outputs": [
    {
     "name": "stdout",
     "output_type": "stream",
     "text": [
      "NN | 72\n",
      "VBD | 13\n",
      "RB | 15\n",
      "IN | 46\n",
      "NNP | 16\n",
      ", | 13\n",
      "VBG | 5\n",
      "DT | 35\n",
      "WDT | 2\n",
      "VBZ | 7\n",
      "VBN | 10\n",
      "NNS | 24\n",
      "CC | 10\n",
      "JJ | 17\n",
      "NNPS | 2\n",
      ". | 12\n",
      "_SP | 7\n",
      "HYPH | 5\n",
      "CD | 20\n",
      "JJR | 3\n",
      "POS | 3\n",
      "JJS | 3\n",
      "'' | 1\n",
      "TO | 1\n",
      "VB | 1\n",
      "VBP | 4\n",
      "PRP$ | 1\n",
      "RP | 1\n",
      "SYM | 1\n",
      ": | 1\n",
      "ADD | 1\n"
     ]
    }
   ],
   "source": [
    "for k, v in count.items():\n",
    "    print(doc.vocab[k].text,'|',v)"
   ]
  }
 ],
 "metadata": {
  "kernelspec": {
   "display_name": "Python 3 (ipykernel)",
   "language": "python",
   "name": "python3"
  },
  "language_info": {
   "codemirror_mode": {
    "name": "ipython",
    "version": 3
   },
   "file_extension": ".py",
   "mimetype": "text/x-python",
   "name": "python",
   "nbconvert_exporter": "python",
   "pygments_lexer": "ipython3",
   "version": "3.10.4"
  }
 },
 "nbformat": 4,
 "nbformat_minor": 5
}
