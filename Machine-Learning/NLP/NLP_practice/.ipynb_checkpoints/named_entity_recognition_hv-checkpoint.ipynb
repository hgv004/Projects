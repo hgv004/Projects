{
 "cells": [
  {
   "cell_type": "markdown",
   "metadata": {
    "id": "ibF7pjNyhBrR"
   },
   "source": [
    "###                     **Named Entity Recognition (NER): Exercises**"
   ]
  },
  {
   "cell_type": "code",
   "execution_count": 1,
   "metadata": {
    "id": "liI13P5Eg_w-"
   },
   "outputs": [],
   "source": [
    "#importing necessary libraries \n",
    "import spacy\n",
    "\n",
    "nlp = spacy.load(\"en_core_web_sm\")  #creating an object and loading the pre-trained model for \"English\""
   ]
  },
  {
   "cell_type": "markdown",
   "metadata": {
    "id": "LFR-Ep2DhXXa"
   },
   "source": [
    "#### **Excersie: 1**\n",
    "\n",
    "- Extract all the Geographical (cities, Countries, states) names from a given text"
   ]
  },
  {
   "cell_type": "code",
   "execution_count": 2,
   "metadata": {
    "colab": {
     "base_uri": "https://localhost:8080/"
    },
    "id": "HgYXmU3phKbg",
    "outputId": "ff6b90e8-ee46-4017-b185-c7b53f65d625"
   },
   "outputs": [],
   "source": [
    "text = \"\"\"Kiran want to know the famous foods in each state of India. So, he opened Google and search for this question. Google showed that\n",
    "in Delhi it is Chaat, in Gujarat it is Dal Dhokli, in Tamilnadu it is Pongal, in Andhrapradesh it is Biryani, in Assam it is Papaya Khar,\n",
    "in Bihar it is Litti Chowkha and so on for all other states\"\"\"\n",
    "\n",
    "doc = nlp(text)"
   ]
  },
  {
   "cell_type": "code",
   "execution_count": 16,
   "metadata": {},
   "outputs": [
    {
     "name": "stdout",
     "output_type": "stream",
     "text": [
      "Kiran | GPE | Countries, cities, states\n",
      "India | GPE | Countries, cities, states\n",
      "Delhi | GPE | Countries, cities, states\n",
      "Chaat | ORG | Companies, agencies, institutions, etc.\n",
      "Gujarat | GPE | Countries, cities, states\n",
      "Dal Dhokli | ORG | Companies, agencies, institutions, etc.\n",
      "Tamilnadu | ORG | Companies, agencies, institutions, etc.\n",
      "Pongal | GPE | Countries, cities, states\n",
      "Andhrapradesh | GPE | Countries, cities, states\n",
      "Biryani | PERSON | People, including fictional\n",
      "Papaya Khar | PERSON | People, including fictional\n",
      "Bihar | GPE | Countries, cities, states\n",
      "Litti Chowkha | PERSON | People, including fictional\n"
     ]
    }
   ],
   "source": [
    "for ent in doc.ents:\n",
    "    print(ent,'|',ent.label_,'|',spacy.explain(ent.label_))"
   ]
  },
  {
   "cell_type": "code",
   "execution_count": 18,
   "metadata": {},
   "outputs": [
    {
     "data": {
      "text/plain": [
       "'Countries, cities, states'"
      ]
     },
     "execution_count": 18,
     "metadata": {},
     "output_type": "execute_result"
    }
   ],
   "source": [
    "spacy.explain(doc.ents[1].label_)"
   ]
  },
  {
   "cell_type": "code",
   "execution_count": 20,
   "metadata": {},
   "outputs": [
    {
     "data": {
      "text/plain": [
       "[Kiran, India, Delhi, Gujarat, Pongal, Andhrapradesh, Bihar]"
      ]
     },
     "execution_count": 20,
     "metadata": {},
     "output_type": "execute_result"
    }
   ],
   "source": [
    "Geo_text=[ent for ent in doc.ents if spacy.explain(ent.label_)=='Countries, cities, states']\n",
    "Geo_text"
   ]
  },
  {
   "cell_type": "markdown",
   "metadata": {},
   "source": [
    "## we need to convert assam into GPE and name kiran into person"
   ]
  },
  {
   "cell_type": "code",
   "execution_count": 40,
   "metadata": {},
   "outputs": [
    {
     "name": "stdout",
     "output_type": "stream",
     "text": [
      "Kiran 0\n",
      "want 1\n",
      "to 2\n",
      "know 3\n",
      "the 4\n",
      "famous 5\n",
      "foods 6\n",
      "in 7\n",
      "each 8\n",
      "state 9\n",
      "of 10\n",
      "India 11\n",
      ". 12\n",
      "So 13\n",
      ", 14\n",
      "he 15\n",
      "opened 16\n",
      "Google 17\n",
      "and 18\n",
      "search 19\n",
      "for 20\n",
      "this 21\n",
      "question 22\n",
      ". 23\n",
      "Google 24\n",
      "showed 25\n",
      "that 26\n",
      "\n",
      " 27\n",
      "in 28\n",
      "Delhi 29\n",
      "it 30\n",
      "is 31\n",
      "Chaat 32\n",
      ", 33\n",
      "in 34\n",
      "Gujarat 35\n",
      "it 36\n",
      "is 37\n",
      "Dal 38\n",
      "Dhokli 39\n",
      ", 40\n",
      "in 41\n",
      "Tamilnadu 42\n",
      "it 43\n",
      "is 44\n",
      "Pongal 45\n",
      ", 46\n",
      "in 47\n",
      "Andhrapradesh 48\n",
      "it 49\n",
      "is 50\n",
      "Biryani 51\n",
      ", 52\n",
      "in 53\n",
      "Assam 54\n",
      "it 55\n",
      "is 56\n",
      "Papaya 57\n",
      "Khar 58\n",
      ", 59\n",
      "\n",
      " 60\n",
      "in 61\n",
      "Bihar 62\n",
      "it 63\n",
      "is 64\n",
      "Litti 65\n",
      "Chowkha 66\n",
      "and 67\n",
      "so 68\n",
      "on 69\n",
      "for 70\n",
      "all 71\n",
      "other 72\n",
      "states 73\n"
     ]
    }
   ],
   "source": [
    "for i, token in enumerate(doc):\n",
    "    print(token,i)"
   ]
  },
  {
   "cell_type": "code",
   "execution_count": 44,
   "metadata": {},
   "outputs": [
    {
     "data": {
      "text/plain": [
       "['CARDINAL',\n",
       " 'DATE',\n",
       " 'EVENT',\n",
       " 'FAC',\n",
       " 'GPE',\n",
       " 'LANGUAGE',\n",
       " 'LAW',\n",
       " 'LOC',\n",
       " 'MONEY',\n",
       " 'NORP',\n",
       " 'ORDINAL',\n",
       " 'ORG',\n",
       " 'PERCENT',\n",
       " 'PERSON',\n",
       " 'PRODUCT',\n",
       " 'QUANTITY',\n",
       " 'TIME',\n",
       " 'WORK_OF_ART']"
      ]
     },
     "execution_count": 44,
     "metadata": {},
     "output_type": "execute_result"
    }
   ],
   "source": [
    "nlp.pipe_labels['ner']"
   ]
  },
  {
   "cell_type": "code",
   "execution_count": 47,
   "metadata": {},
   "outputs": [],
   "source": [
    "from spacy.tokens import Span\n",
    "\n",
    "s1=Span(doc,0,1,label='PERSON')\n",
    "s2=Span(doc,54,55,label='GPE')\n",
    "s3=Span(doc,45,46,label='PRODUCT')\n",
    "s4=Span(doc,42,43,label='GPE')\n",
    "\n",
    "doc.set_ents([s1,s2,s3,s4],default='unmodified')"
   ]
  },
  {
   "cell_type": "code",
   "execution_count": 48,
   "metadata": {},
   "outputs": [
    {
     "data": {
      "text/plain": [
       "[India, Delhi, Gujarat, Tamilnadu, Andhrapradesh, Assam, Bihar]"
      ]
     },
     "execution_count": 48,
     "metadata": {},
     "output_type": "execute_result"
    }
   ],
   "source": [
    "Geo_text=[ent for ent in doc.ents if spacy.explain(ent.label_)=='Countries, cities, states']\n",
    "Geo_text"
   ]
  },
  {
   "cell_type": "markdown",
   "metadata": {
    "id": "fJT4UnUYkpSP"
   },
   "source": [
    "#### **Excersie: 2**\n",
    "\n",
    "- Extract all the birth dates of cricketers in the given Text"
   ]
  },
  {
   "cell_type": "code",
   "execution_count": 49,
   "metadata": {
    "colab": {
     "base_uri": "https://localhost:8080/"
    },
    "id": "pOMngJ2chKda",
    "outputId": "bbfb7cd5-3088-4503-8d94-aa263aac0608"
   },
   "outputs": [],
   "source": [
    "text = \"\"\"Sachin Tendulkar was born on 24 April 1973, Virat Kholi was born on 5 November 1988, Dhoni was born on 7 July 1981\n",
    "and finally Ricky ponting was born on 19 December 1974.\"\"\"\n",
    "\n",
    "doc = nlp(text)"
   ]
  },
  {
   "cell_type": "code",
   "execution_count": 52,
   "metadata": {},
   "outputs": [
    {
     "name": "stdout",
     "output_type": "stream",
     "text": [
      "Sachin Tendulkar PERSON\n",
      "24 April 1973 DATE\n",
      "Virat Kholi LOC\n",
      "5 November 1988 DATE\n",
      "Dhoni PERSON\n",
      "7 July 1981 DATE\n",
      "Ricky PERSON\n",
      "19 December 1974 DATE\n"
     ]
    }
   ],
   "source": [
    "for ent in doc.ents:\n",
    "    print(ent,ent.label_)"
   ]
  },
  {
   "cell_type": "code",
   "execution_count": 54,
   "metadata": {},
   "outputs": [
    {
     "data": {
      "text/plain": [
       "[24 April 1973, 5 November 1988, 7 July 1981, 19 December 1974]"
      ]
     },
     "execution_count": 54,
     "metadata": {},
     "output_type": "execute_result"
    }
   ],
   "source": [
    "birthdates=[ent for ent in doc.ents if ent.label_=='DATE']\n",
    "birthdates"
   ]
  },
  {
   "cell_type": "markdown",
   "metadata": {},
   "source": [
    "## [Solution](./named_entity_recognition_solutions.ipynb)"
   ]
  }
 ],
 "metadata": {
  "colab": {
   "collapsed_sections": [],
   "name": "Named Entity Recognition (NER).ipynb",
   "provenance": []
  },
  "kernelspec": {
   "display_name": "Python 3 (ipykernel)",
   "language": "python",
   "name": "python3"
  },
  "language_info": {
   "codemirror_mode": {
    "name": "ipython",
    "version": 3
   },
   "file_extension": ".py",
   "mimetype": "text/x-python",
   "name": "python",
   "nbconvert_exporter": "python",
   "pygments_lexer": "ipython3",
   "version": "3.10.4"
  }
 },
 "nbformat": 4,
 "nbformat_minor": 1
}
